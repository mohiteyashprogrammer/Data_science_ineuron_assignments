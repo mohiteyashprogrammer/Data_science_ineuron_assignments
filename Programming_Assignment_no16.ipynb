{
 "cells": [
  {
   "cell_type": "markdown",
   "id": "ff2ad013",
   "metadata": {},
   "source": [
    "## 1.Write a function that stutters a word as if someone is struggling to read it. The first two letters are repeated twice with an ellipsis ... and space after each, and then the word is pronounced with a question mark ?\n",
    "Examples: stutter(\"incredible\") ➞ \"in... in... incredible?\"\n",
    "stutter(\"enthusiastic\") ➞ \"en... en... enthusiastic?\"\n",
    "stutter(\"outstanding\") ➞ \"ou... ou... outstanding?\"\n",
    "\n",
    "Hint :- Assume all input is in lower case and at least two characters long."
   ]
  },
  {
   "cell_type": "code",
   "execution_count": 1,
   "id": "2811c6a3",
   "metadata": {},
   "outputs": [
    {
     "name": "stdout",
     "output_type": "stream",
     "text": [
      "Enter word: yash\n",
      " yash > ya...ya...yash?\n",
      "Enter word: incredible\n",
      " incredible > in...in...incredible?\n"
     ]
    }
   ],
   "source": [
    "def stutter_words():\n",
    "    string_word = input(\"Enter word: \")\n",
    "    output = string_word.replace(string_word[:2],((string_word[:2]+\"...\")*2)+ string_word[:2])+\"?\"\n",
    "    print(f\" {string_word} > {output}\")\n",
    "    \n",
    "for i in range(2):\n",
    "    stutter_words()"
   ]
  },
  {
   "cell_type": "markdown",
   "id": "9e0101c7",
   "metadata": {},
   "source": [
    "## 2..Create a function that takes an angle in radians and returns the corresponding angle in degrees rounded to one decimal place ?\n",
    "Examples: radians_to_degrees(1) ➞ 57.3\n",
    "radians_to_degrees(20) ➞ 1145.9\n",
    "radians_to_degrees(50) ➞ 2864.8"
   ]
  },
  {
   "cell_type": "code",
   "execution_count": 2,
   "id": "b7450cf3",
   "metadata": {},
   "outputs": [
    {
     "name": "stdout",
     "output_type": "stream",
     "text": [
      "Enter the angle in radians1\n",
      "1 Radians(s) > 57.29577951308232 Degrees\n",
      "Enter the angle in radians20\n",
      "20 Radians(s) > 1145.9155902616465 Degrees\n",
      "Enter the angle in radians50\n",
      "50 Radians(s) > 2864.7889756541163 Degrees\n"
     ]
    }
   ],
   "source": [
    "import math\n",
    "\n",
    "def radiansToDegree():\n",
    "    num = int(input(\"Enter the angle in radians\"))\n",
    "    output_num = (180/math.pi)*num\n",
    "    print(f\"{num} Radians(s) > {output_num} Degrees\")\n",
    "    \n",
    "for i in range(3):\n",
    "    radiansToDegree()"
   ]
  },
  {
   "cell_type": "markdown",
   "id": "c6a8b632",
   "metadata": {},
   "source": [
    "## 3.In this challenge, establish if a given integer num is a Curzon number. If 1 plus 2 elevated to num is exactly divisible by 1 plus 2 multiplied by num, then num is a Curzon number. Given a non-negative integer num, implement a function that returns True if num is a Curzon number, or False otherwise.\n",
    "Examples: is_curzon(5) ➞ True # 2 ** 5 + 1 = 33 # 2 * 5 + 1 = 11 # 33 is a multiple of 11 is_curzon(10) ➞ False # 2 ** 10 + 1 = 1025 # 2 * 10 + 1 = 21 # 1025 is not a multiple of 21 is_curzon(14) ➞ True # 2 ** 14 + 1 = 16385 # 2 * 14 + 1 = 29 # 16385 is a multiple of 29"
   ]
  },
  {
   "cell_type": "code",
   "execution_count": 4,
   "id": "35537fac",
   "metadata": {},
   "outputs": [
    {
     "name": "stdout",
     "output_type": "stream",
     "text": [
      "enter number5\n",
      "is a Curzon Number\n",
      "enter number10\n",
      "is Not a Curzon Number\n",
      "enter number14\n",
      "is a Curzon Number\n",
      "enter number12\n",
      "is Not a Curzon Number\n"
     ]
    }
   ],
   "source": [
    "def is_curzon_number():\n",
    "    num1  = int(input('enter number'))\n",
    "    if  (1 + 2**num1) % (1 + 2*num1) == 0:\n",
    "        print(\"is a Curzon Number\")\n",
    "    else:\n",
    "        print(\"is Not a Curzon Number\")\n",
    "    \n",
    "for i in range(4):\n",
    "    is_curzon_number()\n",
    "        "
   ]
  },
  {
   "cell_type": "markdown",
   "id": "fb0bbb20",
   "metadata": {},
   "source": [
    "# 4.Given the side length x find the area of a hexagon ?"
   ]
  },
  {
   "cell_type": "code",
   "execution_count": 7,
   "id": "61b5c04e",
   "metadata": {},
   "outputs": [
    {
     "name": "stdout",
     "output_type": "stream",
     "text": [
      "64.9519052838329\n"
     ]
    }
   ],
   "source": [
    "def hexagon_area(x):\n",
    "    return (3 * math.sqrt(3) / 2) * x**2\n",
    "\n",
    "side = 5\n",
    "area = hexagon_area(side)\n",
    "print(area)"
   ]
  },
  {
   "cell_type": "markdown",
   "id": "000644ef",
   "metadata": {},
   "source": [
    "## 5.Create a function that returns a base-2 (binary) representation of a base-10 (decimal) string number. To convert is simple:"
   ]
  },
  {
   "cell_type": "code",
   "execution_count": 14,
   "id": "e6306399",
   "metadata": {},
   "outputs": [
    {
     "name": "stdout",
     "output_type": "stream",
     "text": [
      "enter number1\n",
      " Binary of 1 >  1\n",
      "enter number5\n",
      " Binary of 5 >  101\n",
      "enter number10\n",
      " Binary of 10 >  1010\n",
      "enter number20\n",
      " Binary of 20 >  10100\n"
     ]
    }
   ],
   "source": [
    "def getbinary():\n",
    "    num2 = int(input(\"enter number\"))\n",
    "    out_put = bin(num2).replace(\"0b\",\"\")# bin function help to convert number in binary no\n",
    "    print(f\" Binary of {num2} >  {out_put}\")\n",
    "    \n",
    "for i in range(4):\n",
    "    getbinary()"
   ]
  },
  {
   "cell_type": "code",
   "execution_count": 13,
   "id": "f7fc8535",
   "metadata": {},
   "outputs": [
    {
     "data": {
      "text/plain": [
       "'0b110'"
      ]
     },
     "execution_count": 13,
     "metadata": {},
     "output_type": "execute_result"
    }
   ],
   "source": [
    "bin()"
   ]
  },
  {
   "cell_type": "code",
   "execution_count": null,
   "id": "4f9e690c",
   "metadata": {},
   "outputs": [],
   "source": []
  }
 ],
 "metadata": {
  "kernelspec": {
   "display_name": "Python 3 (ipykernel)",
   "language": "python",
   "name": "python3"
  },
  "language_info": {
   "codemirror_mode": {
    "name": "ipython",
    "version": 3
   },
   "file_extension": ".py",
   "mimetype": "text/x-python",
   "name": "python",
   "nbconvert_exporter": "python",
   "pygments_lexer": "ipython3",
   "version": "3.10.6"
  }
 },
 "nbformat": 4,
 "nbformat_minor": 5
}
