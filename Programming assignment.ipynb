{
 "cells": [
  {
   "cell_type": "markdown",
   "id": "c9aef683",
   "metadata": {},
   "source": [
    "## 1. Write a Python program to find words which are greater than given length k ?"
   ]
  },
  {
   "cell_type": "code",
   "execution_count": 1,
   "id": "3af91447",
   "metadata": {},
   "outputs": [],
   "source": [
    "k = \"ineuron full stack data science cource is awesome\"\n",
    "grate_words = []\n",
    "\n",
    "for i in k.split(\" \"):\n",
    "    if len(i) > 4:\n",
    "        grate_words.append(i)\n"
   ]
  },
  {
   "cell_type": "code",
   "execution_count": 2,
   "id": "0d47960f",
   "metadata": {},
   "outputs": [
    {
     "data": {
      "text/plain": [
       "['ineuron', 'stack', 'science', 'cource', 'awesome']"
      ]
     },
     "execution_count": 2,
     "metadata": {},
     "output_type": "execute_result"
    }
   ],
   "source": [
    "grate_words\n"
   ]
  },
  {
   "cell_type": "markdown",
   "id": "4262a61e",
   "metadata": {},
   "source": [
    "## 2. Write a Python program for removing i-th character from a string ?"
   ]
  },
  {
   "cell_type": "code",
   "execution_count": 3,
   "id": "56854cf9",
   "metadata": {},
   "outputs": [
    {
     "name": "stdout",
     "output_type": "stream",
     "text": [
      "Enter the String: yashmohite\n",
      "Enter the ith Character: 5\n",
      "yashmhite\n"
     ]
    }
   ],
   "source": [
    "def removeCharacter():\n",
    "    in_string = input(\"Enter the String: \")\n",
    "    in_char_num = int(input(\"Enter the ith Character: \"))\n",
    "    out_string = ''\n",
    "    for ele in range(len(in_string)):\n",
    "        if ele != in_char_num:\n",
    "            out_string = out_string + in_string[ele]\n",
    "    print(out_string)\n",
    "    \n",
    "removeCharacter()\n"
   ]
  },
  {
   "cell_type": "markdown",
   "id": "d42f3e43",
   "metadata": {},
   "source": [
    "## 3. Write a Python program to split and join a string ?"
   ]
  },
  {
   "cell_type": "code",
   "execution_count": 4,
   "id": "2fb36347",
   "metadata": {},
   "outputs": [
    {
     "data": {
      "text/plain": [
       "'ineuron.full.stack.data.science.cource.is.awesome'"
      ]
     },
     "execution_count": 4,
     "metadata": {},
     "output_type": "execute_result"
    }
   ],
   "source": [
    "b = \"ineuron full stack data science cource is awesome\"\n",
    "\n",
    "\".\".join(b.split(\" \"))"
   ]
  },
  {
   "cell_type": "markdown",
   "id": "73415504",
   "metadata": {},
   "source": [
    "## 4. Write a Python to check if a given string is binary string or not ?"
   ]
  },
  {
   "cell_type": "code",
   "execution_count": 5,
   "id": "0b3652bc",
   "metadata": {},
   "outputs": [
    {
     "name": "stdout",
     "output_type": "stream",
     "text": [
      "this is binary string: 0\n",
      "this is binary string: 1\n",
      "this is binary string: 0\n",
      "this is binary string: 1\n",
      "this is binary string: 0\n",
      "this is binary string: 1\n",
      "this is binary string: 0\n",
      "this is binary string: 1\n"
     ]
    }
   ],
   "source": [
    "bia = \"01010101\"\n",
    "show = \"0\",\"1\"\n",
    "\n",
    "for i in bia:\n",
    "    if i in show:\n",
    "        print(f\"this is binary string: {i}\")\n",
    "    else:\n",
    "        print(\"not a binary string\",i)\n",
    "        \n",
    "       \n"
   ]
  },
  {
   "cell_type": "markdown",
   "id": "168502b6",
   "metadata": {},
   "source": [
    "## 5. Write a Python program to find uncommon words from two Strings ?"
   ]
  },
  {
   "cell_type": "code",
   "execution_count": 6,
   "id": "fc8c044b",
   "metadata": {},
   "outputs": [
    {
     "name": "stdout",
     "output_type": "stream",
     "text": [
      "Enter the String 1: good monkey\n",
      "Enter the String 2: good money\n",
      "{'monkey', 'money'}\n"
     ]
    }
   ],
   "source": [
    "def unCommonWords():\n",
    "    in_string_1 = set(input(\"Enter the String 1: \").split(' '))\n",
    "    in_string_2 = set(input(\"Enter the String 2: \").split(' '))\n",
    "    out_string = (in_string_1.union(in_string_2)).difference(in_string_1.intersection(in_string_2))\n",
    "    print(out_string)\n",
    "\n",
    "unCommonWords()"
   ]
  },
  {
   "cell_type": "markdown",
   "id": "879c5d45",
   "metadata": {},
   "source": [
    "## 6. Write a Python to find all duplicate characters in string ?"
   ]
  },
  {
   "cell_type": "code",
   "execution_count": 7,
   "id": "067763e6",
   "metadata": {},
   "outputs": [
    {
     "name": "stdout",
     "output_type": "stream",
     "text": [
      "duplicates\n",
      "[' ', 'k', 'r', 't', 'i', 'm', 'd', 'u', 'f', 'c', 'e', 'l', 's', 'a', 'n', 'w', 'o']\n"
     ]
    }
   ],
   "source": [
    "car = \"ineuron full stack data science cource is awesome\"\n",
    "non_dupli = []\n",
    "duplicet = []\n",
    "\n",
    "for i in car:\n",
    "    if i not in non_dupli:\n",
    "        duplicet.append(i)\n",
    "print(\"duplicates\")\n",
    "print(list(set(duplicet)))\n",
    "\n",
    "\n"
   ]
  },
  {
   "cell_type": "markdown",
   "id": "a36b2e9a",
   "metadata": {},
   "source": [
    "## 7. Write a Python Program to check if a string contains any special character?"
   ]
  },
  {
   "cell_type": "code",
   "execution_count": 20,
   "id": "b2350d8a",
   "metadata": {},
   "outputs": [
    {
     "name": "stdout",
     "output_type": "stream",
     "text": [
      "Enter the string: yash@#$%\n",
      "There are 4 Speical Characters in yash@#$% which are ['@', '#', '$', '%']\n"
     ]
    }
   ],
   "source": [
    "def checkSpecialChar():\n",
    "    spl_chars = '[@_!#$%^&*()<>?/\\|}{~:]'\n",
    "    in_num = input('Enter the string: ')\n",
    "    count = 0\n",
    "    char_list = []\n",
    "    for ele in in_num:\n",
    "        if ele in spl_chars:\n",
    "            char_list.append(ele)\n",
    "            count = count+1\n",
    "    print(f'There are {count} Speical Characters in {in_num} which are {char_list}')\n",
    "            \n",
    "        \n",
    "checkSpecialChar()"
   ]
  },
  {
   "cell_type": "markdown",
   "id": "fc8a4b10",
   "metadata": {},
   "source": []
  }
 ],
 "metadata": {
  "kernelspec": {
   "display_name": "Python 3 (ipykernel)",
   "language": "python",
   "name": "python3"
  },
  "language_info": {
   "codemirror_mode": {
    "name": "ipython",
    "version": 3
   },
   "file_extension": ".py",
   "mimetype": "text/x-python",
   "name": "python",
   "nbconvert_exporter": "python",
   "pygments_lexer": "ipython3",
   "version": "3.10.6"
  }
 },
 "nbformat": 4,
 "nbformat_minor": 5
}
