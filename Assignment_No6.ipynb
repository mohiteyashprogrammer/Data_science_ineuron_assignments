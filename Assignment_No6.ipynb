{
 "cells": [
  {
   "cell_type": "markdown",
   "id": "a52edb1e",
   "metadata": {},
   "source": [
    "## 1.What are Escape characters ? and how do you use them ?\n",
    "\n",
    "ANS:Escape characters represent characters in string values that would otherwise be difficult or impossible to type into code. we can use the backslash character to escape a single character or symbol\n",
    "example: \\t, \\n"
   ]
  },
  {
   "cell_type": "markdown",
   "id": "3d84af27",
   "metadata": {},
   "source": [
    "## 2.What do the escape characters n and t stand for ?\n",
    "Ans: \\n is a newline, \\t is a tab"
   ]
  },
  {
   "cell_type": "markdown",
   "id": "5378e4ff",
   "metadata": {},
   "source": [
    "## 3.What is the way to include backslash character in a string?\n",
    "Ans: The \\\\\\ escape character will represent the backslash character in a string"
   ]
  },
  {
   "cell_type": "markdown",
   "id": "b12f5873",
   "metadata": {},
   "source": [
    "## 4.The string \"Howl's Moving Castle\" is a correct value. Why isn't the single quote character in the word Howl's not escaped a problem ?\n",
    "Ans: The string \"Howl's Moving Castle\" escaped the problem because it is wrapped inside double quotes. if its wrapped inside single quotes then we have to use escape character \\' to show single quote in the final output\n",
    "\n",
    "'Howl\\'s Moving Castle' -> 'Howl's Moving Castle'"
   ]
  },
  {
   "cell_type": "markdown",
   "id": "8a8dada2",
   "metadata": {},
   "source": [
    "## 5.How do you write a string of newlines if you don't want to use the n character?\n",
    "Ans: Multiline string allow you to use newlines in string without the \\n escape character"
   ]
  },
  {
   "cell_type": "markdown",
   "id": "4c584612",
   "metadata": {},
   "source": [
    "## 6.What are the values of the given expressions ?\n",
    "'Hello, world!'[1]\n",
    "'Hello, world!'[0:5]\n",
    "'Hello, world!'[:5]\n",
    "'Hello, world!'[3:]\n",
    "\n"
   ]
  },
  {
   "cell_type": "code",
   "execution_count": 3,
   "id": "bfa6492b",
   "metadata": {},
   "outputs": [
    {
     "name": "stdout",
     "output_type": "stream",
     "text": [
      "e\n",
      "hello\n",
      "hello\n",
      "lo, World!\n"
     ]
    }
   ],
   "source": [
    "print(\"hello, World!\"[1])\n",
    "print(\"hello, World!\"[0:5])\n",
    "print(\"hello, World!\"[:5])\n",
    "print(\"hello, World!\"[3:])"
   ]
  },
  {
   "cell_type": "markdown",
   "id": "70d87560",
   "metadata": {},
   "source": [
    "## 7.What are the values of the following expressions ?\n",
    "'Hello'.upper()\n",
    "'Hello'.upper().isupper()\n",
    "'Hello'.upper().lower()"
   ]
  },
  {
   "cell_type": "code",
   "execution_count": 6,
   "id": "ba993965",
   "metadata": {},
   "outputs": [],
   "source": [
    "# 'Hello'.upper() -> 'HELLO'\n",
    "# 'Hello'.upper().isupper() -> True\n",
    "# 'Hello'.upper().lower() -> 'hello'"
   ]
  },
  {
   "cell_type": "markdown",
   "id": "6229900f",
   "metadata": {},
   "source": [
    "## 8.What are the values of the following expressions ?"
   ]
  },
  {
   "cell_type": "code",
   "execution_count": 8,
   "id": "f507238e",
   "metadata": {},
   "outputs": [
    {
     "data": {
      "text/plain": [
       "['Remember,', 'remember,', 'the', 'fifith', 'of', 'July.']"
      ]
     },
     "execution_count": 8,
     "metadata": {},
     "output_type": "execute_result"
    }
   ],
   "source": [
    "a = \"Remember, remember, the fifith of July.\"\n",
    "a.split()"
   ]
  },
  {
   "cell_type": "markdown",
   "id": "932138af",
   "metadata": {},
   "source": [
    "## 9.What are the methods for right-justifying, left-justifying and centering a string ?\n",
    "Ans: The rjust(),ljust(),center() string methods, respectively"
   ]
  },
  {
   "cell_type": "markdown",
   "id": "2edb3680",
   "metadata": {},
   "source": [
    "## 10.What is the best way to remove whitespace characters from the start or end ?\n",
    "Ans: The lstrip() and rstrip() methods remove whitesapce characters from the left and right ends of a string respectively"
   ]
  },
  {
   "cell_type": "code",
   "execution_count": null,
   "id": "a391e4a6",
   "metadata": {},
   "outputs": [],
   "source": []
  }
 ],
 "metadata": {
  "kernelspec": {
   "display_name": "Python 3 (ipykernel)",
   "language": "python",
   "name": "python3"
  },
  "language_info": {
   "codemirror_mode": {
    "name": "ipython",
    "version": 3
   },
   "file_extension": ".py",
   "mimetype": "text/x-python",
   "name": "python",
   "nbconvert_exporter": "python",
   "pygments_lexer": "ipython3",
   "version": "3.10.6"
  }
 },
 "nbformat": 4,
 "nbformat_minor": 5
}
