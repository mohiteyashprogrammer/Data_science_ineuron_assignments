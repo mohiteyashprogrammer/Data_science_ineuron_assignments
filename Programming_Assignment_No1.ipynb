{
 "cells": [
  {
   "cell_type": "markdown",
   "id": "738dd58e",
   "metadata": {},
   "source": [
    "## 1. Write a Python program to print &quot;Hello Python&quot;?"
   ]
  },
  {
   "cell_type": "code",
   "execution_count": 1,
   "id": "cc89ae42",
   "metadata": {},
   "outputs": [
    {
     "name": "stdout",
     "output_type": "stream",
     "text": [
      "Hello python\n"
     ]
    }
   ],
   "source": [
    "A = \"Hello python\"\n",
    "print(A)"
   ]
  },
  {
   "cell_type": "markdown",
   "id": "4601b345",
   "metadata": {},
   "source": [
    "## 2.Write a Python program to do arithmetic operations addition and division ?"
   ]
  },
  {
   "cell_type": "code",
   "execution_count": 2,
   "id": "9984345a",
   "metadata": {},
   "outputs": [
    {
     "name": "stdout",
     "output_type": "stream",
     "text": [
      "Enter the number: 10\n",
      "Enter number 5\n",
      "operator,(+,/)/\n",
      "2.0\n"
     ]
    }
   ],
   "source": [
    "num1 = int(input(\"Enter the number: \"))\n",
    "num2 = int(input(\"Enter number \"))\n",
    "\n",
    "operator =input(\"operator,(+,/)\")\n",
    "\n",
    "if operator == \"+\":\n",
    "    print(num1+num2)\n",
    "elif operator == \"/\":\n",
    "        print(num1/num2)\n",
    "else:\n",
    "    print(\"Invalid operator\")"
   ]
  },
  {
   "cell_type": "markdown",
   "id": "fab7bac6",
   "metadata": {},
   "source": [
    "## 3.Write a Python program to find the area of a triangle ?"
   ]
  },
  {
   "cell_type": "code",
   "execution_count": 4,
   "id": "2fd6d0f6",
   "metadata": {},
   "outputs": [
    {
     "name": "stdout",
     "output_type": "stream",
     "text": [
      "Enter hight of traingle: 500\n",
      "Enter base of traingle: 100\n",
      "\n",
      "Area of triangle -> 25000.0\n"
     ]
    }
   ],
   "source": [
    "height = int(input(\"Enter hight of traingle: \"))\n",
    "base = int(input(\"Enter base of traingle: \"))\n",
    "\n",
    "def areaofTriangle(height, base):\n",
    "    print('\\nArea of triangle ->', 0.5*height*base)\n",
    "\n",
    "areaofTriangle(height,base)\n"
   ]
  },
  {
   "cell_type": "markdown",
   "id": "db4441b9",
   "metadata": {},
   "source": [
    "## 4.Write a Python program to swap two variables ?"
   ]
  },
  {
   "cell_type": "code",
   "execution_count": 9,
   "id": "3daf930c",
   "metadata": {},
   "outputs": [
    {
     "name": "stdout",
     "output_type": "stream",
     "text": [
      "Enter First Number: 500\n",
      "Enter Second Number: 566\n",
      "Before swapping =  500 566\n",
      "After swapping =  566 500\n"
     ]
    }
   ],
   "source": [
    "num = int(input(\"Enter First Number: \"))\n",
    "num_1 = int(input(\"Enter Second Number: \"))\n",
    "\n",
    "def swap_numbers(a,b):\n",
    "    y = a\n",
    "    a = b\n",
    "    b = y\n",
    "    return a,b\n",
    "\n",
    "print('Before swapping = ',num, num_1)\n",
    "num, num_1 = swap_numbers(num, num_1)\n",
    "print('After swapping = ',num,num_1)\n"
   ]
  },
  {
   "cell_type": "markdown",
   "id": "bbc7136b",
   "metadata": {},
   "source": [
    "## 5.Write a Python program to generate a random number ?"
   ]
  },
  {
   "cell_type": "code",
   "execution_count": 11,
   "id": "f47af6bd",
   "metadata": {},
   "outputs": [
    {
     "name": "stdout",
     "output_type": "stream",
     "text": [
      "Random number =  76\n"
     ]
    }
   ],
   "source": [
    "from random import randint\n",
    "\n",
    "def generateRandomNumber(start=0, end=100):\n",
    "    print('Random number = ',randint(start,end))\n",
    "\n",
    "    \n",
    "generateRandomNumber(0,100)\n"
   ]
  }
 ],
 "metadata": {
  "kernelspec": {
   "display_name": "Python 3 (ipykernel)",
   "language": "python",
   "name": "python3"
  },
  "language_info": {
   "codemirror_mode": {
    "name": "ipython",
    "version": 3
   },
   "file_extension": ".py",
   "mimetype": "text/x-python",
   "name": "python",
   "nbconvert_exporter": "python",
   "pygments_lexer": "ipython3",
   "version": "3.10.6"
  }
 },
 "nbformat": 4,
 "nbformat_minor": 5
}
