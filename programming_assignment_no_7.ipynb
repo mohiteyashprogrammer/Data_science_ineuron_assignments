{
 "cells": [
  {
   "cell_type": "markdown",
   "id": "f53975e0",
   "metadata": {},
   "source": [
    "## 1. Write a Python Program to find sum of Array ?"
   ]
  },
  {
   "cell_type": "code",
   "execution_count": 23,
   "id": "197d7526",
   "metadata": {},
   "outputs": [],
   "source": [
    "def sumofarray():\n",
    "    l = [1,2,3,4,5,7,8,9,0]\n",
    "    for i in l:\n",
    "        return (sum(l))"
   ]
  },
  {
   "cell_type": "code",
   "execution_count": 24,
   "id": "34c4fed9",
   "metadata": {},
   "outputs": [
    {
     "data": {
      "text/plain": [
       "39"
      ]
     },
     "execution_count": 24,
     "metadata": {},
     "output_type": "execute_result"
    }
   ],
   "source": [
    "sumofarray()"
   ]
  },
  {
   "cell_type": "markdown",
   "id": "12feec52",
   "metadata": {},
   "source": [
    "## 2. Write a Python Program to find Largest element in an Array ?"
   ]
  },
  {
   "cell_type": "code",
   "execution_count": 33,
   "id": "80df6d3f",
   "metadata": {},
   "outputs": [],
   "source": [
    "def find_largest_element():\n",
    "    a = [1,2,5,6,4,8100]\n",
    "    for i in a:\n",
    "        if int(i) > 10:\n",
    "            return \"this is the largest number\",i\n",
    "    \n"
   ]
  },
  {
   "cell_type": "code",
   "execution_count": 34,
   "id": "85f0cc33",
   "metadata": {},
   "outputs": [
    {
     "data": {
      "text/plain": [
       "('this is the largest number', 8100)"
      ]
     },
     "execution_count": 34,
     "metadata": {},
     "output_type": "execute_result"
    }
   ],
   "source": [
    "find_largest_element()"
   ]
  },
  {
   "cell_type": "markdown",
   "id": "e888008f",
   "metadata": {},
   "source": [
    "## 3. Write a Python Program for array rotation ?"
   ]
  },
  {
   "cell_type": "code",
   "execution_count": 36,
   "id": "7b3b69a7",
   "metadata": {},
   "outputs": [
    {
     "data": {
      "text/plain": [
       "[14, 13, 12, 11, 9, 8, 7, 4, 5, 6, 3, 2, 1]"
      ]
     },
     "execution_count": 36,
     "metadata": {},
     "output_type": "execute_result"
    }
   ],
   "source": [
    "def Rotation_array():\n",
    "    b = [1,2,3,6,5,4,7,8,9,11,12,13,14]\n",
    "    return b[::-1]\n",
    "\n",
    "Rotation_array()\n",
    "    "
   ]
  },
  {
   "cell_type": "markdown",
   "id": "3ca04c81",
   "metadata": {},
   "source": [
    "## 4. Write a Python Program to Split the array and add the first part to the end ?"
   ]
  },
  {
   "cell_type": "code",
   "execution_count": 44,
   "id": "beaf03f4",
   "metadata": {},
   "outputs": [],
   "source": [
    "d = [1,2,3,6,5,4,7,89]\n",
    "d.insert(8,1)"
   ]
  },
  {
   "cell_type": "code",
   "execution_count": 45,
   "id": "f4f460ab",
   "metadata": {},
   "outputs": [
    {
     "data": {
      "text/plain": [
       "[1, 2, 3, 6, 5, 4, 7, 89, 1]"
      ]
     },
     "execution_count": 45,
     "metadata": {},
     "output_type": "execute_result"
    }
   ],
   "source": [
    "d"
   ]
  },
  {
   "cell_type": "markdown",
   "id": "88571257",
   "metadata": {},
   "source": [
    "## 5. Write a Python Program to check if given array is Monotonic ?"
   ]
  },
  {
   "cell_type": "code",
   "execution_count": 49,
   "id": "3e30b07d",
   "metadata": {},
   "outputs": [
    {
     "name": "stdout",
     "output_type": "stream",
     "text": [
      "Enter the Array: 1,2,3,6,5,4,7,8\n",
      "Array (1, 2, 3, 6, 5, 4, 7, 8) is Not Monotonic\n",
      "Enter the Array: 1,2,4,5\n",
      "Array (1, 2, 4, 5) is Monotonic\n"
     ]
    }
   ],
   "source": [
    "def checkMonotonic():\n",
    "    in_arr = eval(input(\"Enter the Array: \"))\n",
    "    if(all(in_arr[i]<=in_arr[i+1] for i in range(len(in_arr)-1)) or all(in_arr[i]>=in_arr[i+1] for i in range(len(in_arr)-1))):\n",
    "        print(f'Array {in_arr} is Monotonic')\n",
    "    else:\n",
    "        print(f'Array {in_arr} is Not Monotonic')\n",
    "        \n",
    "checkMonotonic()\n",
    "checkMonotonic()\n"
   ]
  },
  {
   "cell_type": "code",
   "execution_count": null,
   "id": "7d2a78b6",
   "metadata": {},
   "outputs": [],
   "source": []
  }
 ],
 "metadata": {
  "kernelspec": {
   "display_name": "Python 3 (ipykernel)",
   "language": "python",
   "name": "python3"
  },
  "language_info": {
   "codemirror_mode": {
    "name": "ipython",
    "version": 3
   },
   "file_extension": ".py",
   "mimetype": "text/x-python",
   "name": "python",
   "nbconvert_exporter": "python",
   "pygments_lexer": "ipython3",
   "version": "3.10.6"
  }
 },
 "nbformat": 4,
 "nbformat_minor": 5
}
