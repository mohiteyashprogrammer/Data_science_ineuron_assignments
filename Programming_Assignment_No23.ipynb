{
 "cells": [
  {
   "cell_type": "markdown",
   "id": "20bcfdd7",
   "metadata": {},
   "source": [
    "## 1.Create a function that takes a number as an argument and returns True or False depending on whether the number is symmetrical or not. A number is symmetrical when it is the same as its reverse.\n",
    "\n",
    "Examples:\n",
    "is_symmetrical(7227) ➞ True\n",
    "is_symmetrical(12567) ➞ False\n",
    "is_symmetrical(44444444) ➞ True\n",
    "is_symmetrical(9939) ➞ False\n",
    "is_symmetrical(1112111) ➞ True"
   ]
  },
  {
   "cell_type": "code",
   "execution_count": 5,
   "id": "478616af",
   "metadata": {},
   "outputs": [
    {
     "name": "stdout",
     "output_type": "stream",
     "text": [
      "7227 > True\n",
      "12567 > False\n",
      "44444444 > True\n",
      "9939 > False\n",
      "1112111 > True\n"
     ]
    }
   ],
   "source": [
    "def is_symmetrical(num):\n",
    "    if str(num) == str(num)[::-1]:\n",
    "        print(f\"{num} > {True}\")\n",
    "        \n",
    "    else:\n",
    "        print(f\"{num} > {False}\")\n",
    "        \n",
    "\n",
    "is_symmetrical(7227)\n",
    "is_symmetrical(12567)\n",
    "is_symmetrical(44444444)\n",
    "is_symmetrical(9939)\n",
    "is_symmetrical(1112111)"
   ]
  },
  {
   "cell_type": "markdown",
   "id": "3a72f6ce",
   "metadata": {},
   "source": [
    "## 2.Given a string of numbers separated by a comma and space, return the product of the numbers.\n",
    "Examples:\n",
    "multiply_nums(\"2, 3\") ➞ 6\n",
    "multiply_nums(\"1, 2, 3, 4\") ➞ 24\n",
    "multiply_nums(\"54, 75, 453, 0\") ➞ 0\n",
    "multiply_nums(\"10, -2\") ➞ -20"
   ]
  },
  {
   "cell_type": "code",
   "execution_count": 15,
   "id": "369fd67d",
   "metadata": {},
   "outputs": [
    {
     "name": "stdout",
     "output_type": "stream",
     "text": [
      "2, 3 > 6\n"
     ]
    }
   ],
   "source": [
    "def multiply_num(string):\n",
    "    output_string = string.replace(\"\",\" \").split(\",\")\n",
    "    output = 1\n",
    "    for i in output_string:\n",
    "        output *= int(i)\n",
    "    print(f\"{string} > {output}\")\n",
    "    \n",
    "multiply_num(\"2, 3\")"
   ]
  },
  {
   "cell_type": "markdown",
   "id": "03d33d59",
   "metadata": {},
   "source": [
    "## 3.Create a function that squares every digit of a number.\n",
    "Examples:\n",
    "square_digits(9119) ➞ 811181\n",
    "square_digits(2483) ➞ 416649\n",
    "square_digits(3212) ➞ 9414"
   ]
  },
  {
   "cell_type": "code",
   "execution_count": 49,
   "id": "51c5dcf9",
   "metadata": {},
   "outputs": [
    {
     "name": "stdout",
     "output_type": "stream",
     "text": [
      "811181\n",
      "416649\n",
      "9414\n"
     ]
    }
   ],
   "source": [
    "def squre_digit(num):\n",
    "    sq =\"\"\n",
    "    for i in str(num):\n",
    "        sq += str(int(i)**2)\n",
    "    print(int(sq))\n",
    "    \n",
    "squre_digit(9119)\n",
    "squre_digit(2483)\n",
    "squre_digit(3212)\n",
    "        \n"
   ]
  },
  {
   "cell_type": "markdown",
   "id": "831174f6",
   "metadata": {},
   "source": [
    "## 4.Create a function that sorts a list and removes all duplicate items from it.\n",
    "Examples:\n",
    "setify([1, 3, 3, 5, 5]) ➞ [1, 3, 5]\n",
    "setify([4, 4, 4, 4]) ➞ [4]\n",
    "setify([5, 7, 8, 9, 10, 15]) ➞ [5, 7, 8, 9, 10, 15]\n",
    "setify([3, 3, 3, 2, 1]) ➞ [1, 2, 3]"
   ]
  },
  {
   "cell_type": "code",
   "execution_count": 54,
   "id": "4c30c6a9",
   "metadata": {},
   "outputs": [
    {
     "name": "stdout",
     "output_type": "stream",
     "text": [
      "[1, 3, 3, 5, 5] > [1, 3, 5]\n",
      "[4, 4, 4, 4] > [4]\n",
      "[5, 7, 8, 9, 10, 15] > [5, 7, 8, 9, 10, 15]\n",
      "[3, 3, 3, 2, 1] > [1, 2, 3]\n",
      "[11, 2, 9, 6, 6, 7, 7, 1, 1, 22] > [1, 2, 6, 7, 9, 11, 22]\n"
     ]
    }
   ],
   "source": [
    "def setify(lst):\n",
    "    output = sorted(set(lst))\n",
    "    print(f\"{lst} > {output}\")\n",
    "    \n",
    "setify([1, 3, 3, 5, 5])\n",
    "setify([4, 4, 4, 4])\n",
    "setify([5, 7, 8, 9, 10, 15])\n",
    "setify([3, 3, 3, 2, 1])\n",
    "setify([11,2,9,6,6,7,7,1,1,22])"
   ]
  },
  {
   "cell_type": "markdown",
   "id": "a92a7148",
   "metadata": {},
   "source": [
    "## 5.Create a function that returns the mean of all digits.\n",
    "Examples:\n",
    "mean(42) ➞ 3\n",
    "mean(12345) ➞ 3\n",
    "mean(666) ➞ 6\n",
    "\n",
    "Notes:\n",
    "1.The mean of all digits is the sum of digits / how many digits there are (e.g. mean of digits in 512 is (5+1+2)/3(number of digits) = 8/3=2).\n",
    "2.The mean will always be an integer."
   ]
  },
  {
   "cell_type": "code",
   "execution_count": 63,
   "id": "019794bc",
   "metadata": {},
   "outputs": [
    {
     "name": "stdout",
     "output_type": "stream",
     "text": [
      "3.0\n",
      "3.0\n",
      "6.0\n"
     ]
    }
   ],
   "source": [
    "def mean(num):\n",
    "    sum =0\n",
    "    count = 0\n",
    "    for i in str(num):\n",
    "        sum += int(i)\n",
    "        count=count+1\n",
    "    return sum/count\n",
    "\n",
    "print(mean(42))\n",
    "print(mean(12345))\n",
    "print(mean(666))\n",
    "    "
   ]
  },
  {
   "cell_type": "code",
   "execution_count": null,
   "id": "0f017b5a",
   "metadata": {},
   "outputs": [],
   "source": []
  }
 ],
 "metadata": {
  "kernelspec": {
   "display_name": "Python 3 (ipykernel)",
   "language": "python",
   "name": "python3"
  },
  "language_info": {
   "codemirror_mode": {
    "name": "ipython",
    "version": 3
   },
   "file_extension": ".py",
   "mimetype": "text/x-python",
   "name": "python",
   "nbconvert_exporter": "python",
   "pygments_lexer": "ipython3",
   "version": "3.10.6"
  }
 },
 "nbformat": 4,
 "nbformat_minor": 5
}
