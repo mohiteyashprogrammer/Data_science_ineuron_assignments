{
 "cells": [
  {
   "cell_type": "markdown",
   "id": "1d670679",
   "metadata": {},
   "source": [
    "## 1. Write a Python Program to Add two Matrices ?"
   ]
  },
  {
   "cell_type": "code",
   "execution_count": 2,
   "id": "0f672f65",
   "metadata": {},
   "outputs": [
    {
     "name": "stdout",
     "output_type": "stream",
     "text": [
      "[10, 10, 10, 0]\n",
      "[11, 13, 15, 0]\n",
      "[4, 8, 12, 0]\n"
     ]
    }
   ],
   "source": [
    "x = [[1,2,3,5],\n",
    "    [7,8,9,4],\n",
    "    [2,7,9,6]]\n",
    "\n",
    "y = [[9,8,7,4],\n",
    "    [4,5,6,1],\n",
    "    [2,1,3,5]]\n",
    "\n",
    "result = [[0,0,0,0],\n",
    "         [0,0,0,0],\n",
    "         [0,0,0,0]]\n",
    "\n",
    "# iterate throu rows\n",
    "for i in range(len(x)):\n",
    "    \n",
    "    for j in range(len(y)):\n",
    "        result[i][j] = x[i][j] + y[i][j]\n",
    "        \n",
    "for z in result:\n",
    "    print(z)"
   ]
  },
  {
   "cell_type": "markdown",
   "id": "2ad1028a",
   "metadata": {},
   "source": [
    "## 2. Write a Python Program to Multiply two Matrices ?"
   ]
  },
  {
   "cell_type": "code",
   "execution_count": 3,
   "id": "2f2cf6b6",
   "metadata": {},
   "outputs": [
    {
     "name": "stdout",
     "output_type": "stream",
     "text": [
      "[9, 16, 21, 0]\n",
      "[28, 40, 54, 0]\n",
      "[4, 7, 27, 0]\n"
     ]
    }
   ],
   "source": [
    "x = [[1,2,3,5],\n",
    "    [7,8,9,4],\n",
    "    [2,7,9,6]]\n",
    "\n",
    "y = [[9,8,7,4],\n",
    "    [4,5,6,1],\n",
    "    [2,1,3,5]]\n",
    "\n",
    "result = [[0,0,0,0],\n",
    "         [0,0,0,0],\n",
    "         [0,0,0,0]]\n",
    "\n",
    "# iterate throu rows\n",
    "for i in range(len(x)):\n",
    "    \n",
    "    for j in range(len(y)):\n",
    "        result[i][j] = x[i][j] * y[i][j]\n",
    "        \n",
    "for z in result:\n",
    "    print(z)"
   ]
  },
  {
   "cell_type": "markdown",
   "id": "30bde60a",
   "metadata": {},
   "source": [
    "## 3. Write a Python Program to transpose a Matrix ?"
   ]
  },
  {
   "cell_type": "code",
   "execution_count": 8,
   "id": "5bbb05c2",
   "metadata": {},
   "outputs": [
    {
     "name": "stdout",
     "output_type": "stream",
     "text": [
      "Result matrix is\n",
      "1  2  3  4  \n",
      "2  2  3  4  \n",
      "3  3  3  4  \n",
      "4  4  4  4  \n"
     ]
    }
   ],
   "source": [
    "N = 4\n",
    " \n",
    "# This function stores\n",
    "# transpose of A[][] in B[][]\n",
    " \n",
    "def transpose(A,B):\n",
    " \n",
    " for i in range(N):\n",
    "    for j in range(N):\n",
    "        B[i][j] = A[j][i]\n",
    " # driver code\n",
    "A = [ [1, 1, 1, 1],\n",
    " [2, 2, 2, 2],\n",
    " [3, 3, 3, 3],\n",
    " [4, 4, 4, 4]]\n",
    " \n",
    "B = A[:][:] # To store result\n",
    " \n",
    "transpose(A, B)\n",
    " \n",
    "print(\"Result matrix is\")\n",
    "for i in range(N):\n",
    "    for j in range(N):\n",
    "        print(B[i][j], \" \", end='')\n",
    "    print()"
   ]
  },
  {
   "cell_type": "markdown",
   "id": "a63f14db",
   "metadata": {},
   "source": [
    "## 4. Write a Python Program to sort Words in an Alphabatical Order ?"
   ]
  },
  {
   "cell_type": "code",
   "execution_count": 18,
   "id": "0a4a720e",
   "metadata": {},
   "outputs": [
    {
     "name": "stdout",
     "output_type": "stream",
     "text": [
      "brown dog fox jumps lazy over quick the the\n"
     ]
    }
   ],
   "source": [
    "def Func(S):\n",
    "    W = S.split(\" \")\n",
    "    for i in range(len(W)):\n",
    "     \n",
    "      # convert all the words into lowercase\n",
    "        W[i]=W[i].lower() \n",
    "    S = sorted(W)\n",
    "    print(' '.join(S))\n",
    " # Driver code\n",
    "S = \"the Quick brown fox jumPs over the lazY Dog\"\n",
    " \n",
    "# function call\n",
    "Func(S)"
   ]
  },
  {
   "cell_type": "markdown",
   "id": "53e004d1",
   "metadata": {},
   "source": [
    "## 5. Write a Python Program to remove Punctuations From a String ?"
   ]
  },
  {
   "cell_type": "code",
   "execution_count": 27,
   "id": "b181d168",
   "metadata": {},
   "outputs": [
    {
     "name": "stdout",
     "output_type": "stream",
     "text": [
      "yash is   a good  boy\n"
     ]
    }
   ],
   "source": [
    "import string\n",
    "\n",
    "a = \"yash@ is ! `a good ? boy\"\n",
    "\n",
    "a = a.translate(str.maketrans(\"\",\"\",string.punctuation))\n",
    "print(a)"
   ]
  },
  {
   "cell_type": "code",
   "execution_count": null,
   "id": "4902de97",
   "metadata": {},
   "outputs": [],
   "source": [
    "\n"
   ]
  },
  {
   "cell_type": "code",
   "execution_count": null,
   "id": "e65fdd8a",
   "metadata": {},
   "outputs": [],
   "source": []
  }
 ],
 "metadata": {
  "kernelspec": {
   "display_name": "Python 3 (ipykernel)",
   "language": "python",
   "name": "python3"
  },
  "language_info": {
   "codemirror_mode": {
    "name": "ipython",
    "version": 3
   },
   "file_extension": ".py",
   "mimetype": "text/x-python",
   "name": "python",
   "nbconvert_exporter": "python",
   "pygments_lexer": "ipython3",
   "version": "3.10.6"
  }
 },
 "nbformat": 4,
 "nbformat_minor": 5
}
