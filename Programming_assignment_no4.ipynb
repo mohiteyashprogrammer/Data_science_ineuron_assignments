{
 "cells": [
  {
   "cell_type": "markdown",
   "id": "97ada198",
   "metadata": {},
   "source": [
    "## 1. Write a Python Program to Find the Factorial of a Number?"
   ]
  },
  {
   "cell_type": "code",
   "execution_count": 1,
   "id": "11b614df",
   "metadata": {},
   "outputs": [
    {
     "name": "stdout",
     "output_type": "stream",
     "text": [
      "Enter a number to find factorial: 4\n",
      "factorial of the given number is: \n",
      "24\n"
     ]
    }
   ],
   "source": [
    "num=int(input(\"Enter a number to find factorial: \"))\n",
    "#takes input from user\n",
    "factorial=1;  #declare and initialize factorial variable to one\n",
    "#check if the number is negetive ,positive or zero\n",
    "if num<0:\n",
    "    print(\"Factorial does not defined for negative integer\");\n",
    "elif(num==0):\n",
    "    print(\"The factorial of 0 is 1\");\n",
    "else:\n",
    "    while(num>0):\n",
    "        factorial=factorial*num\n",
    "        \n",
    "        num=num-1\n",
    "        \n",
    "    print(\"factorial of the given number is: \")\n",
    "    print(factorial)\n",
    "\n",
    "\n"
   ]
  },
  {
   "cell_type": "markdown",
   "id": "fa26fc6e",
   "metadata": {},
   "source": [
    " ## 2.Write a Python Program to Display the multiplication Table?"
   ]
  },
  {
   "cell_type": "code",
   "execution_count": 4,
   "id": "cbd09a14",
   "metadata": {},
   "outputs": [
    {
     "name": "stdout",
     "output_type": "stream",
     "text": [
      "Enter a number: 5\n",
      "Enter no of entries: 10\n",
      "5 X 1 = 5\n",
      "5 X 2 = 10\n",
      "5 X 3 = 15\n",
      "5 X 4 = 20\n",
      "5 X 5 = 25\n",
      "5 X 6 = 30\n",
      "5 X 7 = 35\n",
      "5 X 8 = 40\n",
      "5 X 9 = 45\n",
      "5 X 10 = 50\n"
     ]
    }
   ],
   "source": [
    "def generateTable(base,entries):\n",
    "    for x in range(1,entries+1):\n",
    "        print(f'{base} X {x} = {base*x}')\n",
    "\n",
    "num = int(input('Enter a number: '))\n",
    "values = int(input('Enter no of entries: '))\n",
    "generateTable(num,values)"
   ]
  },
  {
   "cell_type": "markdown",
   "id": "cba68a78",
   "metadata": {},
   "source": [
    "## 3.Write a Python Program to print the fibonacci sequence ?"
   ]
  },
  {
   "cell_type": "code",
   "execution_count": 5,
   "id": "538f8b24",
   "metadata": {},
   "outputs": [
    {
     "name": "stdout",
     "output_type": "stream",
     "text": [
      "Enter the no of fibonacci sequences you want? 8\n",
      "The First 8 fibonacci series are:  [0, 1, 1, 2, 3, 5, 8, 13]\n"
     ]
    }
   ],
   "source": [
    "s_count = int(input('Enter the no of fibonacci sequences you want? '))\n",
    "initial_list = [0,1]\n",
    "if s_count < 0:\n",
    "    print('Fibonacci Numbers are not available for Negative Numbers')\n",
    "elif s_count <= 2 and s_count >= 0:\n",
    "    print(initial_list)\n",
    "else:\n",
    "    for ins in range(s_count):\n",
    "        if ins >= 2:\n",
    "            initial_list.append(initial_list[ins-1]+initial_list[ins-2])\n",
    "    print(f'The First {s_count} fibonacci series are: ',initial_list)"
   ]
  },
  {
   "cell_type": "markdown",
   "id": "3bcaffd5",
   "metadata": {},
   "source": [
    "## 4.Write a Python Program to check Armstrong number ?"
   ]
  },
  {
   "cell_type": "code",
   "execution_count": 7,
   "id": "03d03179",
   "metadata": {},
   "outputs": [
    {
     "name": "stdout",
     "output_type": "stream",
     "text": [
      "Enter a number: 1\n",
      "1 is a Armstrong Number\n",
      "Enter a number: 100\n",
      "100 is a Not Armstrong Number\n"
     ]
    }
   ],
   "source": [
    "def checkArmstrongNumber():\n",
    "    in_num = input('Enter a number: ')\n",
    "    sum = 0\n",
    "    for char in range(len(in_num)):\n",
    "        sum = sum + pow(int(in_num[char]),3)\n",
    "    if sum == int(in_num):\n",
    "        print(f'{in_num} is a Armstrong Number')\n",
    "    else:\n",
    "        print(f'{in_num} is a Not Armstrong Number')\n",
    "\n",
    "for x in range(2):\n",
    "    checkArmstrongNumber()"
   ]
  },
  {
   "cell_type": "markdown",
   "id": "b353d8f0",
   "metadata": {},
   "source": [
    "## 6.Write a Python Program to sum of natural numbers ?"
   ]
  },
  {
   "cell_type": "code",
   "execution_count": 8,
   "id": "e260cb76",
   "metadata": {},
   "outputs": [
    {
     "name": "stdout",
     "output_type": "stream",
     "text": [
      "Enter a number: 18\n",
      "Sum of 18 natural numbers is 171.0\n"
     ]
    }
   ],
   "source": [
    "def sumOfNaturalNumbers(num):\n",
    "    sum = num*((num+1)/2)\n",
    "    print(f'Sum of {num} natural numbers is {sum}')\n",
    "    \n",
    "num = int(input('Enter a number: '))\n",
    "sumOfNaturalNumbers(num)"
   ]
  },
  {
   "cell_type": "code",
   "execution_count": null,
   "id": "eeeccede",
   "metadata": {},
   "outputs": [],
   "source": []
  }
 ],
 "metadata": {
  "kernelspec": {
   "display_name": "Python 3 (ipykernel)",
   "language": "python",
   "name": "python3"
  },
  "language_info": {
   "codemirror_mode": {
    "name": "ipython",
    "version": 3
   },
   "file_extension": ".py",
   "mimetype": "text/x-python",
   "name": "python",
   "nbconvert_exporter": "python",
   "pygments_lexer": "ipython3",
   "version": "3.10.6"
  }
 },
 "nbformat": 4,
 "nbformat_minor": 5
}
