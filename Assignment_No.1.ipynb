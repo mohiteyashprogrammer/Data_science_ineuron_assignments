{
 "cells": [
  {
   "cell_type": "markdown",
   "id": "d7883897",
   "metadata": {},
   "source": [
    "## 1. In the below elements which of them are values or an expression? eg:- values can be integer or string and expressions will be mathematical operators\n",
    "\n",
    "Ans: OPERATORS are *,-,/,+\n",
    "EXPRESSIONS are \"hellow\", 87.8,6\n"
   ]
  },
  {
   "cell_type": "markdown",
   "id": "6e74cc29",
   "metadata": {},
   "source": [
    "## 2 .What is the difference between string and variable?\n",
    "\n",
    "Ans: A variable is used to store values and Stringsvis a  type of information \n",
    "that you store in variable we can represent string in python like this in double quotes\" \" or single quots' '\n",
    "    \n",
    "    "
   ]
  },
  {
   "cell_type": "markdown",
   "id": "26709f33",
   "metadata": {},
   "source": [
    "## 3. Describe three different Data Types ?\n",
    "Ans: INT DATA TYPE: we can use to represent whole number called integar value\n",
    "\n",
    "FLOAT DATA TYPE: we use this data type to represent floting point value like(5.4 this is floting number)\n",
    "\n",
    "BOOL DATA TYPE: this data type give you bool value like(True,False) \n"
   ]
  },
  {
   "cell_type": "markdown",
   "id": "518af738",
   "metadata": {},
   "source": [
    "## 4. What is an expression made up of? What do all expressions do?\n",
    "\n",
    "Ans: Expression is a combination of vallues, operators,and calls to functions\n",
    "expression need to be evaluated.if we ask python to print an expression the\n",
    "interpreter give the expression and display the result\n"
   ]
  },
  {
   "cell_type": "markdown",
   "id": "23856c60",
   "metadata": {},
   "source": [
    "## 5.This assignment statements, like spam = 10. What is the difference between an expression and a statement?\n",
    "\n",
    "Ans:  An expression is a combination of values, variables, and operators.When we type an expression at the prompt, the interpreter give it which means that it finds the value of the expression \n",
    "\n",
    "variable declaration and assignment are statements because they do not return a value"
   ]
  },
  {
   "cell_type": "markdown",
   "id": "1a4249c0",
   "metadata": {},
   "source": [
    "## 6.After running the following code, what does the variable bacon contain?\n",
    "\n",
    "Ans:\n",
    "bacon = 14\n",
    "The Variable bacon contin value of 14"
   ]
  },
  {
   "cell_type": "markdown",
   "id": "49f278f5",
   "metadata": {},
   "source": [
    "## 7.What should the values of the following two terms be?\n",
    "'spam'+'spamspam'\n",
    "'spam'*3\n",
    "\n",
    "\n",
    "ANS : Both are strings after runing the code'spamspamspam'\n",
    "\n"
   ]
  },
  {
   "cell_type": "code",
   "execution_count": 2,
   "id": "f257050e",
   "metadata": {},
   "outputs": [
    {
     "name": "stdout",
     "output_type": "stream",
     "text": [
      "spamspamspam\n",
      "spamspamspam\n"
     ]
    }
   ],
   "source": [
    "print('spam'+'spamspam') \n",
    "print('spam'*3) "
   ]
  },
  {
   "cell_type": "markdown",
   "id": "763ce52a",
   "metadata": {},
   "source": [
    "## 8.Why is eggs a valid variable name while 100 is invalid?\n",
    "\n",
    "Ans: Because python rules dont allow the number as variable only names can be a variables\n",
    "\n",
    "\n"
   ]
  },
  {
   "cell_type": "code",
   "execution_count": 5,
   "id": "46a53e11",
   "metadata": {},
   "outputs": [
    {
     "ename": "SyntaxError",
     "evalue": "cannot assign to literal here. Maybe you meant '==' instead of '='? (2374831343.py, line 2)",
     "output_type": "error",
     "traceback": [
      "\u001b[1;36m  Cell \u001b[1;32mIn [5], line 2\u001b[1;36m\u001b[0m\n\u001b[1;33m    100='Hulk'\u001b[0m\n\u001b[1;37m    ^\u001b[0m\n\u001b[1;31mSyntaxError\u001b[0m\u001b[1;31m:\u001b[0m cannot assign to literal here. Maybe you meant '==' instead of '='?\n"
     ]
    }
   ],
   "source": [
    "egg=\"Thor\" \n",
    "100='Hulk' \n",
    "print(egg)\n",
    "print(100)# as you can see number variable is give (SyntaxError)\n"
   ]
  },
  {
   "cell_type": "markdown",
   "id": "b3aa17fb",
   "metadata": {},
   "source": [
    "## 9.What three functions can be used to get the integer,floating-point number,or string version of a value?\n",
    "\n"
   ]
  },
  {
   "cell_type": "code",
   "execution_count": 7,
   "id": "4970aae3",
   "metadata": {},
   "outputs": [
    {
     "name": "stdout",
     "output_type": "stream",
     "text": [
      "int(11.0) ->  10\n",
      "float(11) ->  10.0\n",
      "str(11) ->  10\n"
     ]
    }
   ],
   "source": [
    "print('int(10.0) -> ',int(10.0)) # int() function converts given input to int\n",
    "print('float(10) -> ',float(10)) # float() function converts given input to float\n",
    "print('str(10) -> ',str(10)) # str() function converts given input to string\n"
   ]
  },
  {
   "cell_type": "markdown",
   "id": "ba5b882c",
   "metadata": {},
   "source": [
    "## 10.Why does this expression cause an error? how can you fix it?\n",
    "'I have eaten ' + 99 + 'burritos.'\n",
    "\n",
    "Ans: 99 must be typecasted to a string to fix this error \n"
   ]
  },
  {
   "cell_type": "code",
   "execution_count": 8,
   "id": "7f2ff6a7",
   "metadata": {},
   "outputs": [
    {
     "name": "stdout",
     "output_type": "stream",
     "text": [
      "I have eaten 99 burritos\n"
     ]
    }
   ],
   "source": [
    "print('I have eaten '+str(99)+' burritos')"
   ]
  },
  {
   "cell_type": "code",
   "execution_count": null,
   "id": "fda5bb75",
   "metadata": {},
   "outputs": [],
   "source": []
  }
 ],
 "metadata": {
  "kernelspec": {
   "display_name": "Python 3 (ipykernel)",
   "language": "python",
   "name": "python3"
  },
  "language_info": {
   "codemirror_mode": {
    "name": "ipython",
    "version": 3
   },
   "file_extension": ".py",
   "mimetype": "text/x-python",
   "name": "python",
   "nbconvert_exporter": "python",
   "pygments_lexer": "ipython3",
   "version": "3.10.6"
  }
 },
 "nbformat": 4,
 "nbformat_minor": 5
}
