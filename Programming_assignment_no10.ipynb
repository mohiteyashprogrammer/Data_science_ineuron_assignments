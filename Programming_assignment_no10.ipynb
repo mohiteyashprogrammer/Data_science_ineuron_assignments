{
 "cells": [
  {
   "cell_type": "markdown",
   "id": "906020bb",
   "metadata": {},
   "source": [
    "## 1.Write a Python Program to find sum of elements in a list ?"
   ]
  },
  {
   "cell_type": "code",
   "execution_count": 31,
   "id": "a9f9d8ee",
   "metadata": {},
   "outputs": [
    {
     "name": "stdout",
     "output_type": "stream",
     "text": [
      "15\n"
     ]
    }
   ],
   "source": [
    "a = [1,2,3,4,5]\n",
    "b = 0\n",
    "\n",
    "for i in a:\n",
    "    if type(i) == int:\n",
    "        b=i+b\n",
    "print(b)"
   ]
  },
  {
   "cell_type": "markdown",
   "id": "ea1d428e",
   "metadata": {},
   "source": [
    "## 2.Write a Python Program to multiply all numbers in the list ?"
   ]
  },
  {
   "cell_type": "code",
   "execution_count": 36,
   "id": "e1f900a8",
   "metadata": {},
   "outputs": [
    {
     "name": "stdout",
     "output_type": "stream",
     "text": [
      "12096\n"
     ]
    }
   ],
   "source": [
    "a = [1,2,3,4,7,8,9]\n",
    "b = 1\n",
    "\n",
    "for i in a:\n",
    "    if type(i) == int:\n",
    "        b=i*b\n",
    "print(b)"
   ]
  },
  {
   "cell_type": "markdown",
   "id": "7808574d",
   "metadata": {},
   "source": [
    "## 3.Write a Python Program to find smallest number in the list ?"
   ]
  },
  {
   "cell_type": "code",
   "execution_count": 43,
   "id": "90565551",
   "metadata": {},
   "outputs": [
    {
     "name": "stdout",
     "output_type": "stream",
     "text": [
      "('smallest number in list is: ', 12)\n"
     ]
    }
   ],
   "source": [
    "ls = [99,100,478,12,99,88,222]\n",
    "print((\"smallest number in list is: \",min(ls)))"
   ]
  },
  {
   "cell_type": "markdown",
   "id": "15368175",
   "metadata": {},
   "source": [
    "## 4.Write a Python Program to find largest number in the list ?"
   ]
  },
  {
   "cell_type": "markdown",
   "id": "d7952532",
   "metadata": {},
   "source": [
    "ls = [99,100,478,12,99,88,222]\n",
    "print((\"largest number in list is: \",max(ls)))"
   ]
  },
  {
   "cell_type": "markdown",
   "id": "02bb05a1",
   "metadata": {},
   "source": [
    "## 5.Write a Python Program to find second largest number in the list ?"
   ]
  },
  {
   "cell_type": "code",
   "execution_count": 60,
   "id": "e765cfaa",
   "metadata": {},
   "outputs": [
    {
     "name": "stdout",
     "output_type": "stream",
     "text": [
      "first largest no:  478\n",
      "second largest no:  222\n"
     ]
    }
   ],
   "source": [
    "ls_1 = [99,100,478,12,99,88,222]\n",
    "\n",
    "for i in ls_1:\n",
    "    if int(i) <0:\n",
    "        print(max(i))\n",
    "print(\"first largest no: \",max(ls))\n",
    "print(\"second largest no: \",i)"
   ]
  },
  {
   "cell_type": "markdown",
   "id": "e0a02475",
   "metadata": {},
   "source": [
    "## 6.Write a Python Program to find N largest elements in the list ?"
   ]
  },
  {
   "cell_type": "code",
   "execution_count": 78,
   "id": "6599e87a",
   "metadata": {},
   "outputs": [
    {
     "name": "stdout",
     "output_type": "stream",
     "text": [
      "this are largest no in list:  {99, 100, 222, 478}\n"
     ]
    }
   ],
   "source": [
    "ls_2 = [99,100,478,12,99,88,222,45,60,98]\n",
    "l = []\n",
    "for i in ls_2:\n",
    "    if i >= 99:\n",
    "        l.append(((i)))\n",
    "print(\"this are largest no in list: \",set(l))   "
   ]
  },
  {
   "cell_type": "markdown",
   "id": "92e135c1",
   "metadata": {},
   "source": [
    "## 7.Write a Python Program to find even numbers in the list ?"
   ]
  },
  {
   "cell_type": "code",
   "execution_count": 82,
   "id": "115bba10",
   "metadata": {},
   "outputs": [
    {
     "name": "stdout",
     "output_type": "stream",
     "text": [
      "even number:  100\n",
      "even number:  478\n",
      "even number:  12\n",
      "even number:  88\n",
      "even number:  222\n",
      "even number:  60\n",
      "even number:  98\n"
     ]
    }
   ],
   "source": [
    "ls_3 = [99,100,478,12,99,88,222,45,60,98]\n",
    "\n",
    "for i in ls_3:\n",
    "    if i%2 == 0:\n",
    "        print(\"even number: \",i)\n",
    "    "
   ]
  },
  {
   "cell_type": "markdown",
   "id": "f4d3188a",
   "metadata": {},
   "source": [
    "## 8.Write a Python Program to find odd numbers in the list ?"
   ]
  },
  {
   "cell_type": "code",
   "execution_count": 87,
   "id": "8e952f18",
   "metadata": {},
   "outputs": [
    {
     "name": "stdout",
     "output_type": "stream",
     "text": [
      "odd number:  99\n",
      "odd number:  99\n",
      "odd number:  45\n"
     ]
    }
   ],
   "source": [
    "ls_4 = [99,100,478,12,99,88,222,45,60,98]\n",
    "\n",
    "for i in ls_4:\n",
    "    if i%2 != 0:\n",
    "        print(\"odd number: \",i)\n",
    "        "
   ]
  },
  {
   "cell_type": "markdown",
   "id": "1abcaddb",
   "metadata": {},
   "source": [
    "## 9.Write a Python Program to remove empty list from list ?"
   ]
  },
  {
   "cell_type": "code",
   "execution_count": 99,
   "id": "1e594d24",
   "metadata": {},
   "outputs": [
    {
     "name": "stdout",
     "output_type": "stream",
     "text": [
      "[99, 100, 478, 12, 99, 88, 222, 45, 60, 98]\n"
     ]
    }
   ],
   "source": [
    "ls_5 = [99,100,478,12,99,88,222,45,60,98,[]]\n",
    "\n",
    "ls_5.remove([])\n",
    "print(ls_5)"
   ]
  },
  {
   "cell_type": "markdown",
   "id": "2478235e",
   "metadata": {},
   "source": [
    "## 10.Write a Python Program to Cloning or Copying a list ?"
   ]
  },
  {
   "cell_type": "code",
   "execution_count": 105,
   "id": "5b2a6fa9",
   "metadata": {},
   "outputs": [
    {
     "name": "stdout",
     "output_type": "stream",
     "text": [
      "original list:  1601513671744\n",
      "clone list:  1601513680256\n"
     ]
    }
   ],
   "source": [
    "lst = [99, 100, 478, 12, 99, 88, 222, 45, 60, 981,1000,5489,745]\n",
    "clone_lst = lst.copy()\n",
    "print(\"original list: \",id(lst))\n",
    "\n",
    "print(\"clone list: \",id(clone_lst))"
   ]
  },
  {
   "cell_type": "markdown",
   "id": "aa9c572c",
   "metadata": {},
   "source": [
    "## 11.Write a Python Program to count occurences of an element in a list ?"
   ]
  },
  {
   "cell_type": "code",
   "execution_count": 107,
   "id": "6e248bde",
   "metadata": {},
   "outputs": [
    {
     "name": "stdout",
     "output_type": "stream",
     "text": [
      "number repited 6\n",
      "number repited 7\n",
      "number repited 8\n",
      "number repited 1\n",
      "number repited 1\n",
      "number repited 1\n",
      "number repited 1\n",
      "number repited 5\n",
      "number repited 5\n",
      "number repited 5\n",
      "number repited 7\n",
      "number repited 7\n",
      "number repited 8\n",
      "number repited 8\n",
      "number repited 6\n"
     ]
    }
   ],
   "source": [
    "lc = [111,2,3,6,555,4,7,8,1,1,1,1,5,5,5,7,7,8,8,9,6,33,32]\n",
    "\n",
    "for i in lc:\n",
    "    if lc.count(i) > 1:\n",
    "        print(\"number repited\",i)"
   ]
  },
  {
   "cell_type": "code",
   "execution_count": null,
   "id": "f45cf206",
   "metadata": {},
   "outputs": [],
   "source": []
  }
 ],
 "metadata": {
  "kernelspec": {
   "display_name": "Python 3 (ipykernel)",
   "language": "python",
   "name": "python3"
  },
  "language_info": {
   "codemirror_mode": {
    "name": "ipython",
    "version": 3
   },
   "file_extension": ".py",
   "mimetype": "text/x-python",
   "name": "python",
   "nbconvert_exporter": "python",
   "pygments_lexer": "ipython3",
   "version": "3.10.6"
  }
 },
 "nbformat": 4,
 "nbformat_minor": 5
}
