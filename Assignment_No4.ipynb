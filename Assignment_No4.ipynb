{
 "cells": [
  {
   "cell_type": "markdown",
   "id": "0b361383",
   "metadata": {},
   "source": [
    "## 1.What exactly is [ ]?\n",
    "\n",
    "ANS:  The empty list represent by [] is a list contain no items.\n"
   ]
  },
  {
   "cell_type": "markdown",
   "id": "6c9d0686",
   "metadata": {},
   "source": [
    "## 2.In a list of values stored in a variable called spam, how would you assign the value 'hello' as the third value? (Assume [2, 4, 6, 8, 10] are in spam.)\n"
   ]
  },
  {
   "cell_type": "code",
   "execution_count": 1,
   "id": "c9d76283",
   "metadata": {},
   "outputs": [],
   "source": [
    "#ANS\n",
    "spam = [2,4,6,8,10]\n",
    "spam[2] = \"hello\""
   ]
  },
  {
   "cell_type": "code",
   "execution_count": 2,
   "id": "9826c710",
   "metadata": {},
   "outputs": [
    {
     "data": {
      "text/plain": [
       "[2, 4, 'hello', 8, 10]"
      ]
     },
     "execution_count": 2,
     "metadata": {},
     "output_type": "execute_result"
    }
   ],
   "source": [
    "spam"
   ]
  },
  {
   "cell_type": "markdown",
   "id": "9765b2f5",
   "metadata": {},
   "source": [
    "## 3. What is the value of spam[int(int('3'*2)//11)] ?"
   ]
  },
  {
   "cell_type": "code",
   "execution_count": 3,
   "id": "3aef7171",
   "metadata": {},
   "outputs": [
    {
     "name": "stdout",
     "output_type": "stream",
     "text": [
      "spam[int(int('3'*2)//11)] -> d\n"
     ]
    }
   ],
   "source": [
    "#ANS\n",
    "spam=['a','b','c','d']\n",
    "print(\"spam[int(int('3'*2)//11)] ->\",spam[int(int('3'*2)//11)])"
   ]
  },
  {
   "cell_type": "markdown",
   "id": "5954cab5",
   "metadata": {},
   "source": [
    "## 4. What is the value of spam[-1]?\n",
    "ANS:  list support negative index [-1]"
   ]
  },
  {
   "cell_type": "markdown",
   "id": "9ffd559e",
   "metadata": {},
   "source": [
    "## 5. What is the value of spam[:2]?\n",
    "ANS:  Return all the elemrnt in list 0 to 2 (spam[:2]"
   ]
  },
  {
   "cell_type": "code",
   "execution_count": 5,
   "id": "b8a7d68c",
   "metadata": {},
   "outputs": [
    {
     "data": {
      "text/plain": [
       "['a', 'b']"
      ]
     },
     "execution_count": 5,
     "metadata": {},
     "output_type": "execute_result"
    }
   ],
   "source": [
    "spam[:2]"
   ]
  },
  {
   "cell_type": "markdown",
   "id": "e358b3dc",
   "metadata": {},
   "source": [
    "## Let's pretend bacon has the list [3.14,'cat',11,'cat',True] for the next three questio \n",
    "\n",
    "## 6. What is the value of bacon.index('cat')?\n"
   ]
  },
  {
   "cell_type": "code",
   "execution_count": 20,
   "id": "da51875b",
   "metadata": {},
   "outputs": [
    {
     "data": {
      "text/plain": [
       "'cat'"
      ]
     },
     "execution_count": 20,
     "metadata": {},
     "output_type": "execute_result"
    }
   ],
   "source": [
    "bacon = [3.14,'cat',11,'cat',True]\n",
    "bacon[1]# cat is on index no 1"
   ]
  },
  {
   "cell_type": "markdown",
   "id": "abee3584",
   "metadata": {},
   "source": [
    "## 7. How does bacon.append(99) change the look of the list value in bacon?"
   ]
  },
  {
   "cell_type": "code",
   "execution_count": 22,
   "id": "ecffc0b0",
   "metadata": {},
   "outputs": [],
   "source": [
    "bacon.append(99)# It add element in end of list\n"
   ]
  },
  {
   "cell_type": "code",
   "execution_count": 23,
   "id": "e300652b",
   "metadata": {},
   "outputs": [
    {
     "data": {
      "text/plain": [
       "[3.14, 'cat', 11, 'cat', True, 99]"
      ]
     },
     "execution_count": 23,
     "metadata": {},
     "output_type": "execute_result"
    }
   ],
   "source": [
    "bacon"
   ]
  },
  {
   "cell_type": "markdown",
   "id": "867bcf78",
   "metadata": {},
   "source": [
    "## 8. How does bacon.remove('cat') change the look of the list in bacon?"
   ]
  },
  {
   "cell_type": "code",
   "execution_count": 24,
   "id": "e5cbaae7",
   "metadata": {},
   "outputs": [],
   "source": [
    "#ANS\n",
    "bacon.remove(\"cat\")#The remove method removes the first occurence of the element in the list"
   ]
  },
  {
   "cell_type": "code",
   "execution_count": 26,
   "id": "17e869a0",
   "metadata": {},
   "outputs": [
    {
     "data": {
      "text/plain": [
       "[3.14, 11, 'cat', True, 99]"
      ]
     },
     "execution_count": 26,
     "metadata": {},
     "output_type": "execute_result"
    }
   ],
   "source": [
    "bacon"
   ]
  },
  {
   "cell_type": "markdown",
   "id": "e07f3590",
   "metadata": {},
   "source": [
    "## 9.what are the list concatenation and list replication operations?\n",
    "ANS:  The operator for list concatenation is +, while the operator for replication is *"
   ]
  },
  {
   "cell_type": "code",
   "execution_count": 27,
   "id": "9c5f9634",
   "metadata": {},
   "outputs": [],
   "source": [
    "l = [\"a\", \"b\"]\n",
    "l2 = [\"c\",\"d\"]\n",
    "l3 = l + l2"
   ]
  },
  {
   "cell_type": "code",
   "execution_count": 28,
   "id": "006da01f",
   "metadata": {},
   "outputs": [
    {
     "data": {
      "text/plain": [
       "['a', 'b', 'c', 'd']"
      ]
     },
     "execution_count": 28,
     "metadata": {},
     "output_type": "execute_result"
    }
   ],
   "source": [
    "l3"
   ]
  },
  {
   "cell_type": "markdown",
   "id": "c44a0f12",
   "metadata": {},
   "source": [
    "## 10.what is the difference between the list method append() and insert()?\n",
    "\n",
    "ANS: While append() will add values only to the end of a list, insert() can add them anywhere in the list."
   ]
  },
  {
   "cell_type": "markdown",
   "id": "4580f594",
   "metadata": {},
   "source": [
    "## 11. What are the two methods for removing items from a list?\n",
    "ANS :  The del statement and the remove() method are two ways to remove values from a list"
   ]
  },
  {
   "cell_type": "markdown",
   "id": "8b714233",
   "metadata": {},
   "source": [
    "## 12. Describe how list values and string values are identical.\n",
    "ANS: Both lists and strings can be passed to len() function, have indexes and slices, be used in for loops, be concatenated or replicated, and be used with the in and not in operators."
   ]
  },
  {
   "cell_type": "markdown",
   "id": "022ab4a8",
   "metadata": {},
   "source": [
    "## 13. What's the difference between tuples and lists?\n",
    "ANS: Lists are Mutable, Indexable and Slicable. they can have values added, removed, or changed. Tuples are Immutable but Indexable and Slicable. the tuple values cannot be changed at all. Also, tuples are represented using parentheses, (), while lists use the square brackets, []."
   ]
  },
  {
   "cell_type": "markdown",
   "id": "09859f96",
   "metadata": {},
   "source": [
    "## 14. How do you type a tuple value that only contains the integer 42?\n",
    "ANS ::(42,) (The trailing comma is mandatory. otherwise its considered as a int by python Interpreter)"
   ]
  },
  {
   "cell_type": "code",
   "execution_count": 36,
   "id": "26b96b26",
   "metadata": {},
   "outputs": [],
   "source": [
    "tup = (42,)"
   ]
  },
  {
   "cell_type": "code",
   "execution_count": 37,
   "id": "7bacd5fe",
   "metadata": {},
   "outputs": [
    {
     "name": "stdout",
     "output_type": "stream",
     "text": [
      "<class 'tuple'>\n"
     ]
    }
   ],
   "source": [
    "print(type(tup))"
   ]
  },
  {
   "cell_type": "markdown",
   "id": "f02b7d60",
   "metadata": {},
   "source": [
    "## 15. How do you get a list value's tuple form? How do you get a tuple value's list form?\n",
    "\n",
    "ANS: The tuple() and list() functions, respectively are used to convert a list to tuple and vice versa"
   ]
  },
  {
   "cell_type": "code",
   "execution_count": 39,
   "id": "06d0295f",
   "metadata": {},
   "outputs": [
    {
     "data": {
      "text/plain": [
       "[4, 2, 3, 6, 5]"
      ]
     },
     "execution_count": 39,
     "metadata": {},
     "output_type": "execute_result"
    }
   ],
   "source": [
    "l = (4,2,3,6,5)\n",
    "list(l)\n"
   ]
  },
  {
   "cell_type": "code",
   "execution_count": 40,
   "id": "183e004a",
   "metadata": {},
   "outputs": [
    {
     "data": {
      "text/plain": [
       "(1, 2, 3, 6, 5)"
      ]
     },
     "execution_count": 40,
     "metadata": {},
     "output_type": "execute_result"
    }
   ],
   "source": [
    "l2 = [1,2,3,6,5]\n",
    "tuple(l2)"
   ]
  },
  {
   "cell_type": "markdown",
   "id": "8a620c74",
   "metadata": {},
   "source": [
    "## 16. Variables that \"contain\" list values are not necessarily lists themselves. Instead, what do they contain?\n",
    "ANS: : They contain references to list values.\n"
   ]
  },
  {
   "cell_type": "markdown",
   "id": "a33d2532",
   "metadata": {},
   "source": [
    "##  17. How do you distinguish between copy.copy() and copy.deepcopy()?\n",
    "ANS"
   ]
  },
  {
   "cell_type": "code",
   "execution_count": 43,
   "id": "2aa3def8",
   "metadata": {},
   "outputs": [],
   "source": [
    "#copy.copy() function will do shallow copy of a list\n",
    "# copy.deepcopy() function will do deep copy of list\n",
    "#that is only will duplicate any list inside the list\n"
   ]
  },
  {
   "cell_type": "code",
   "execution_count": null,
   "id": "bbdddb80",
   "metadata": {},
   "outputs": [],
   "source": []
  }
 ],
 "metadata": {
  "kernelspec": {
   "display_name": "Python 3 (ipykernel)",
   "language": "python",
   "name": "python3"
  },
  "language_info": {
   "codemirror_mode": {
    "name": "ipython",
    "version": 3
   },
   "file_extension": ".py",
   "mimetype": "text/x-python",
   "name": "python",
   "nbconvert_exporter": "python",
   "pygments_lexer": "ipython3",
   "version": "3.10.6"
  }
 },
 "nbformat": 4,
 "nbformat_minor": 5
}
