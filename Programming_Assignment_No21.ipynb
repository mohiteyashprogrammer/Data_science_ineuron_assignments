{
 "cells": [
  {
   "cell_type": "markdown",
   "id": "a8cd64f8",
   "metadata": {},
   "source": [
    "## 1.Write a function that takes a list and a number as arguments. Add the number to the end of the list, then remove the first element of the list. The function should then return the updated list."
   ]
  },
  {
   "cell_type": "code",
   "execution_count": 6,
   "id": "b0adb8a3",
   "metadata": {},
   "outputs": [
    {
     "name": "stdout",
     "output_type": "stream",
     "text": [
      "Output > [6, 7, 8, 9, 1]\n",
      "Output > [6, 3, 23, 17, 10]\n",
      "Output > [10, 20, 42, 6]\n",
      "No list has been selected\n"
     ]
    }
   ],
   "source": [
    "def update_list(list1,num):\n",
    "    \n",
    "    if len(list1) > 1:\n",
    "        list1.append(num)\n",
    "        list1.remove(list1[0])\n",
    "        print(f\"Output > {list1}\")\n",
    "    else:\n",
    "        print(\"No list has been selected\")\n",
    "update_list([5, 6, 7, 8, 9],1)\n",
    "update_list([7, 6, 3, 23, 17], 10)\n",
    "update_list([1, 10, 20, 42 ], 6)\n",
    "update_list([],6)"
   ]
  },
  {
   "cell_type": "markdown",
   "id": "f1212bbd",
   "metadata": {},
   "source": [
    "## 2.Create the function that takes a list of dictionaries and returns the sum of people's budgets.\n",
    "Examples:\n",
    "get_budgets([ { \"name\": \"John\", \"age\": 21, \"budget\": 23000 }, { \"name\": \"Steve\", \"age\": 32, \"budget\": 40000 }, { \"name\": \"Martin\", \"age\": 16, \"budget\": 2700 } ]) ➞ 65700\n",
    "\n",
    "get_budgets([ { \"name\": \"John\", \"age\": 21, \"budget\": 29000 }, { \"name\": \"Steve\", \"age\": 32, \"budget\": 32000 }, { \"name\": \"Martin\", \"age\": 16, \"budget\": 1600 } ]) ➞ 62600"
   ]
  },
  {
   "cell_type": "code",
   "execution_count": 17,
   "id": "c1410ab9",
   "metadata": {},
   "outputs": [
    {
     "name": "stdout",
     "output_type": "stream",
     "text": [
      "sum of budget is: 65700\n",
      "sum of budget is: 62600\n"
     ]
    }
   ],
   "source": [
    "def get_budget(dict1):\n",
    "    s  = 0\n",
    "    for i in dict1:\n",
    "        s=s+i[\"budget\"]\n",
    "    print(f\"sum of budget is: {s}\")\n",
    "    \n",
    "get_budget([\n",
    "{ \"name\": \"John\", \"age\": 21, \"budget\": 23000 },\n",
    "{ \"name\": \"Steve\", \"age\": 32, \"budget\": 40000 },\n",
    "{ \"name\": \"Martin\", \"age\": 16, \"budget\": 2700 }\n",
    "])\n",
    "\n",
    "get_budget([\n",
    "{ \"name\": \"John\", \"age\": 21, \"budget\": 29000 },\n",
    "{ \"name\": \"Steve\", \"age\": 32, \"budget\": 32000 },\n",
    "{ \"name\": \"Martin\", \"age\": 16, \"budget\": 1600 }\n",
    "])"
   ]
  },
  {
   "cell_type": "markdown",
   "id": "ba077b2b",
   "metadata": {},
   "source": [
    "## 3.Create a function that takes a string and returns a string with its letters in alphabetical order.\n",
    "Examples:\n",
    "alphabet_soup(\"hello\") ➞ \"ehllo\"\n",
    "alphabet_soup(\"edabit\") ➞ \"abdeit\"\n",
    "alphabet_soup(\"hacker\") ➞ \"acehkr\"\n",
    "alphabet_soup(\"geek\") ➞ \"eegk\"\n",
    "alphabet_soup(\"javascript\") ➞ \"aacijprstv\""
   ]
  },
  {
   "cell_type": "code",
   "execution_count": 39,
   "id": "ed4817aa",
   "metadata": {},
   "outputs": [
    {
     "name": "stdout",
     "output_type": "stream",
     "text": [
      "hello > ehllo\n",
      "edabit > abdeit\n",
      "hacker > acehkr\n",
      "geek > eegk\n",
      "javascript > aacijprstv\n"
     ]
    }
   ],
   "source": [
    "def alplabet_soup(string):\n",
    "    output = \"\".join(sorted(string))\n",
    "    return f\"{string} > {output}\"\n",
    "\n",
    "print(alplabet_soup(\"hello\"))\n",
    "print(alplabet_soup(\"edabit\"))\n",
    "print(alplabet_soup(\"hacker\"))\n",
    "print(alplabet_soup(\"geek\"))\n",
    "print(alplabet_soup(\"javascript\"))"
   ]
  },
  {
   "cell_type": "markdown",
   "id": "2ddc1a7e",
   "metadata": {},
   "source": [
    "## 4.What will be the value of your investment at the end of the 10 year period?\n",
    "Create a function that accepts the principal p, the term in years t, the interest rate r, and the number of compounding periods per year n. The function returns the value at the end of term rounded to the nearest cent.\n",
    "\n",
    "For the example above:\n",
    "compound_interest(10000, 10, 0.06, 12) ➞ 18193.97\n",
    "Note that the interest rate is given as a decimal and n=12 because with monthly compounding there are 12 periods per year. Compounding can also be done annually, quarterly, weekly, or daily.\n",
    "\n",
    "Examples:\n",
    "compound_interest(100, 1, 0.05, 1) ➞ 105.0\n",
    "compound_interest(3500, 15, 0.1, 4) ➞ 15399.26\n",
    "compound_interest(100000, 20, 0.15, 365) ➞ 2007316.26"
   ]
  },
  {
   "cell_type": "code",
   "execution_count": 41,
   "id": "cd39c799",
   "metadata": {},
   "outputs": [
    {
     "name": "stdout",
     "output_type": "stream",
     "text": [
      "Output> 105.00\n",
      "Output> 15399.26\n",
      "Output> 2007316.26\n"
     ]
    }
   ],
   "source": [
    "def compound_interest(principal,years,roi,cp):\n",
    "    ci = principal*(1+(roi/cp))**(cp*years)\n",
    "    print(f'Output> {ci:.2f}')\n",
    "\n",
    "compound_interest(100, 1, 0.05, 1)\n",
    "compound_interest(3500, 15, 0.1, 4)\n",
    "compound_interest(100000, 20, 0.15, 365)"
   ]
  },
  {
   "cell_type": "markdown",
   "id": "8cffbac0",
   "metadata": {},
   "source": [
    "## 5.Write a function that takes a list of elements and returns only the integers.\n",
    "Examples:\n",
    "return_only_integer([9, 2, \"space\", \"car\", \"lion\", 16]) ➞ [9, 2, 16]\n",
    "return_only_integer([\"hello\", 81, \"basketball\", 123, \"fox\"]) ➞ [81, 123]\n",
    "return_only_integer([10, \"121\", 56, 20, \"car\", 3, \"lion\"]) ➞ [10, 56, 20,3]\n",
    "return_only_integer([\"String\", True, 3.3, 1]) ➞ [1]"
   ]
  },
  {
   "cell_type": "code",
   "execution_count": 49,
   "id": "8bbdb7d6",
   "metadata": {},
   "outputs": [
    {
     "name": "stdout",
     "output_type": "stream",
     "text": [
      "[9, 2, 'space', 'car', 'lion', 16] > [9, 2, 16]\n",
      "['hello', 81, 'basketball', 123, 'fox'] > [81, 123]\n",
      "[10, '121', 56, 20, 'car', 3, 'lion'] > [10, 56, 20, 3]\n",
      "['String', True, 3.3, 1] > [1]\n"
     ]
    }
   ],
   "source": [
    "def return_only_integer(lst):\n",
    "    output = []\n",
    "    \n",
    "    for i in lst:\n",
    "        if type(i) == int:\n",
    "            output.append(i)\n",
    "    return f\"{lst} > {output}\"\n",
    "\n",
    "print(return_only_integer([9, 2, \"space\", \"car\", \"lion\", 16]))\n",
    "print(return_only_integer([\"hello\", 81, \"basketball\", 123, \"fox\"]))\n",
    "print(return_only_integer([10, \"121\", 56, 20, \"car\", 3, \"lion\"]))\n",
    "print(return_only_integer([\"String\", True, 3.3, 1]))"
   ]
  }
 ],
 "metadata": {
  "kernelspec": {
   "display_name": "Python 3 (ipykernel)",
   "language": "python",
   "name": "python3"
  },
  "language_info": {
   "codemirror_mode": {
    "name": "ipython",
    "version": 3
   },
   "file_extension": ".py",
   "mimetype": "text/x-python",
   "name": "python",
   "nbconvert_exporter": "python",
   "pygments_lexer": "ipython3",
   "version": "3.10.6"
  }
 },
 "nbformat": 4,
 "nbformat_minor": 5
}
