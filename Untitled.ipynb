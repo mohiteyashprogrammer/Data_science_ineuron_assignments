{
 "cells": [
  {
   "cell_type": "markdown",
   "id": "842f37ce",
   "metadata": {},
   "source": [
    "## 1.Create a function that takes a string and returns a string in which each character is repeated once.\n",
    "Examples:\n",
    "double_char(\"String\") ➞ \"SSttrriinngg\"\n",
    "double_char(\"Hello World!\") ➞ \"HHeelllloo WWoorrlldd!!\"\n",
    "doublechar(\"1234!_\") ➞ \"11223344!!__\""
   ]
  },
  {
   "cell_type": "code",
   "execution_count": 17,
   "id": "e7a925eb",
   "metadata": {},
   "outputs": [
    {
     "name": "stdout",
     "output_type": "stream",
     "text": [
      " SSttrriinngg\n",
      " HHeelllloo  WWoorrlldd!!\n",
      " 11223344!!__\n"
     ]
    }
   ],
   "source": [
    "def double_str(string):\n",
    "    output = \" \"\n",
    "    for i in string:\n",
    "        output += i*2\n",
    "    return output\n",
    "\n",
    "print(double_str(\"String\"))\n",
    "print(double_str(\"Hello World!\"))\n",
    "print(double_str(\"1234!_\"))\n",
    "\n",
    "    \n",
    "        "
   ]
  },
  {
   "cell_type": "markdown",
   "id": "6be0513b",
   "metadata": {},
   "source": [
    "##  2.Create a function that reverses a boolean value and returns the string \"boolean expected\" if another variable type is given.\n",
    "Examples:\n",
    "reverse(True) ➞ False\n",
    "reverse(False) ➞ True\n",
    "reverse(0) ➞ \"boolean expected\"\n",
    "reverse(None) ➞ \"boolean expected\""
   ]
  },
  {
   "cell_type": "code",
   "execution_count": 26,
   "id": "147bd357",
   "metadata": {},
   "outputs": [
    {
     "name": "stdout",
     "output_type": "stream",
     "text": [
      "False\n",
      "True\n",
      "boolen expected\n",
      "boolen expected\n"
     ]
    }
   ],
   "source": [
    "def reverse(bool1):\n",
    "    if type(bool1) == bool:\n",
    "        return not bool1\n",
    "    else:\n",
    "        return \"boolen expected\"\n",
    "    \n",
    "print(reverse(True))\n",
    "print(reverse(False))\n",
    "print(reverse(0))\n",
    "print(reverse(None))"
   ]
  },
  {
   "cell_type": "markdown",
   "id": "3f2b4371",
   "metadata": {},
   "source": [
    "## 3. Create a function that returns the thickness (in meters) of a piece of paper after folding it n number of times. The paper starts off with a thickness of 0.5mm.\n",
    "Examples:\n",
    "num_layers(1) ➞ \"0.001m\" # Paper folded once is 1mm (equal to 0.001m) num_layers(4) ➞ \"0.008m\" # Paper folded 4 times is 8mm (equal to 0.008m) num_layers(21) ➞ \"1048.576m\" # Paper folded 21 times is 1048576mm (equal to 1048.576m)"
   ]
  },
  {
   "cell_type": "code",
   "execution_count": 27,
   "id": "0bccad8f",
   "metadata": {},
   "outputs": [
    {
     "name": "stdout",
     "output_type": "stream",
     "text": [
      "Output ➞ 0.001m\n",
      "Output ➞ 0.008m\n",
      "Output ➞ 1048.576m\n"
     ]
    }
   ],
   "source": [
    "def num_layers(in_num):\n",
    "    out_num = 0.5\n",
    "    for ele in range(in_num):\n",
    "        out_num *= 2\n",
    "    print(f'Output ➞ {out_num/1000}m')\n",
    "    \n",
    "num_layers(1)\n",
    "num_layers(4)\n",
    "num_layers(21)"
   ]
  },
  {
   "cell_type": "markdown",
   "id": "00499168",
   "metadata": {},
   "source": [
    "## 4.Create a function that takes a single string as argument and returns an ordered list containing the indices of all capital letters in the string.\n",
    "Examples:\n",
    "index_of_caps(\"eDaBiT\") ➞ [1, 3, 5]\n",
    "index_of_caps(\"eQuINoX\") ➞ [1, 3, 4, 6]\n",
    "index_of_caps(\"determine\") ➞ []\n",
    "index_of_caps(\"STRIKE\") ➞ [0, 1, 2, 3, 4, 5]\n",
    "index_of_caps(\"sUn\") ➞ [1]"
   ]
  },
  {
   "cell_type": "code",
   "execution_count": 52,
   "id": "ff0607a2",
   "metadata": {},
   "outputs": [
    {
     "name": "stdout",
     "output_type": "stream",
     "text": [
      "eDaBiT > [1, 3, 5]\n",
      "eQuINoX > [1, 3, 4, 6]\n",
      "determine > []\n",
      "STRIKE > [0, 1, 2, 3, 4, 5]\n",
      "sUn > [1]\n"
     ]
    }
   ],
   "source": [
    "def index_in_cap(string):\n",
    "    outputstr = []\n",
    "    for i in string:\n",
    "        if i.isupper():\n",
    "            outputstr.append(string.index(i))\n",
    "    print(f\"{string} > {outputstr}\")\n",
    "        \n",
    "index_in_cap(\"eDaBiT\")\n",
    "index_in_cap(\"eQuINoX\")\n",
    "index_in_cap(\"determine\")\n",
    "index_in_cap(\"STRIKE\")\n",
    "index_in_cap((\"sUn\"))"
   ]
  },
  {
   "cell_type": "markdown",
   "id": "a97f5721",
   "metadata": {},
   "source": [
    "## 5.Using list comprehensions, create a function that finds all even numbers from 1 to the given number.\n",
    "Examples:\n",
    "find_even_nums(8) ➞ [2, 4, 6, 8]\n",
    "find_even_nums(4) ➞ [2, 4]\n",
    "find_even_nums(2) ➞ [2]"
   ]
  },
  {
   "cell_type": "code",
   "execution_count": 73,
   "id": "51612f88",
   "metadata": {},
   "outputs": [
    {
     "name": "stdout",
     "output_type": "stream",
     "text": [
      "even number:  [2, 4, 6, 8]\n",
      "even number:  [2, 4]\n",
      "even number:  [2]\n"
     ]
    }
   ],
   "source": [
    "def get_even(num):\n",
    "    output = [i for i in range(1,num) if i%2 ==0]\n",
    "    print(\"even number: \",output)\n",
    "    \n",
    "get_even(9)\n",
    "get_even(5)\n",
    "get_even(3)"
   ]
  },
  {
   "cell_type": "code",
   "execution_count": null,
   "id": "6e189283",
   "metadata": {},
   "outputs": [],
   "source": []
  }
 ],
 "metadata": {
  "kernelspec": {
   "display_name": "Python 3 (ipykernel)",
   "language": "python",
   "name": "python3"
  },
  "language_info": {
   "codemirror_mode": {
    "name": "ipython",
    "version": 3
   },
   "file_extension": ".py",
   "mimetype": "text/x-python",
   "name": "python",
   "nbconvert_exporter": "python",
   "pygments_lexer": "ipython3",
   "version": "3.10.6"
  }
 },
 "nbformat": 4,
 "nbformat_minor": 5
}
