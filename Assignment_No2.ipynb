{
 "cells": [
  {
   "cell_type": "markdown",
   "id": "e3433025",
   "metadata": {},
   "source": [
    "## 1.What are the two values of the boolean data types? how do you write them ?\n",
    "\n",
    "ANS: There are two type of boolean value (True,False)"
   ]
  },
  {
   "cell_type": "code",
   "execution_count": 1,
   "id": "55936cc2",
   "metadata": {},
   "outputs": [
    {
     "name": "stdout",
     "output_type": "stream",
     "text": [
      "<class 'bool'>\n",
      "<class 'bool'>\n"
     ]
    }
   ],
   "source": [
    "a=True\n",
    "b=False\n",
    "print(type(a))\n",
    "print(type(b))"
   ]
  },
  {
   "cell_type": "markdown",
   "id": "d8e47360",
   "metadata": {},
   "source": [
    "## 2. What are the three different types of Boolean operators?\n",
    "\n",
    "ANS: There are three type of boolean operator in python are(or,and,not)"
   ]
  },
  {
   "cell_type": "markdown",
   "id": "a49d4624",
   "metadata": {},
   "source": [
    "## 3. Make a list of each Boolean operator's truth tables (i.e. every possible combination of Boolean values for the operator and what it evaluate) ?\n",
    "\n",
    "\n"
   ]
  },
  {
   "cell_type": "markdown",
   "id": "db865224",
   "metadata": {},
   "source": [
    "\n",
    "<!-- 1.Truth Table for AND operaotor\n",
    "True and True is True\n",
    "True and False is False\n",
    "False and True is False\n",
    "False and False is False\n",
    "\n",
    "2.Truth Table for OR operaotor\n",
    "True and True is True\n",
    "True and False is True\n",
    "False and True is True\n",
    "False and False is False\n",
    "\n",
    "3.Truth Table for NOT operaotor\n",
    "True not is False False not is True\n",
    " -->"
   ]
  },
  {
   "cell_type": "code",
   "execution_count": 2,
   "id": "3fe58cf1",
   "metadata": {},
   "outputs": [],
   "source": [
    "# ANS:\n",
    "# 1.Truth Table for AND operaotor\n",
    "# True and True is True\n",
    "# True and False is False\n",
    "# False and True is False\n",
    "# False and False is False\n",
    "\n",
    "# 2.Truth Table for OR operaotor\n",
    "# True and True is True\n",
    "# True and False is True\n",
    "# False and True is True\n",
    "# False and False is False\n",
    "\n",
    "# 3.Truth Table for NOT operaotor\n",
    "# True not is False False not is True\n"
   ]
  },
  {
   "cell_type": "markdown",
   "id": "49bcf627",
   "metadata": {},
   "source": [
    "## 4. What are the values of the following expressions ?\n",
    "(5 > 4) and (3 == 5)\n",
    "not (5 > 4)\n",
    "(5 > 4) or (3 == 5)\n",
    "not ((5 > 4) or (3 == 5))\n",
    "(True and True) and (True == False)\n",
    "(not False) or (not True)"
   ]
  },
  {
   "cell_type": "code",
   "execution_count": 3,
   "id": "17505186",
   "metadata": {},
   "outputs": [
    {
     "name": "stdout",
     "output_type": "stream",
     "text": [
      "False\n",
      "False\n",
      "True\n",
      "False\n",
      "False\n",
      "True\n"
     ]
    }
   ],
   "source": [
    "print((5>4)and(3==5))\n",
    "print(not(5>4))\n",
    "print((5>4)or(3==5)) \n",
    "print(not((5>4)or(3==5))) \n",
    "print((True and True)and(True==False)) \n",
    "print((not False)or(not True)) \n"
   ]
  },
  {
   "cell_type": "markdown",
   "id": "1902271b",
   "metadata": {},
   "source": [
    "## 5. What are the six comparison operators?\n",
    "ANS: ==, !=, <, >, <=, =>"
   ]
  },
  {
   "cell_type": "markdown",
   "id": "e43de2ff",
   "metadata": {},
   "source": [
    "## 6. How do you tell the difference between the equal to and assignment operators?Describe a condition and when you would use one ?\n",
    "\n",
    "ANS:  == is the equal to operator that the compares two values are equal are not and give boolean\n",
    "\n",
    "= is that assignment operator that store a value in avariable"
   ]
  },
  {
   "cell_type": "code",
   "execution_count": 4,
   "id": "9c4ada18",
   "metadata": {},
   "outputs": [
    {
     "name": "stdout",
     "output_type": "stream",
     "text": [
      "True\n"
     ]
    }
   ],
   "source": [
    "A = 3\n",
    "if A==3:\n",
    "    print(A==3)"
   ]
  },
  {
   "cell_type": "markdown",
   "id": "4a7652d1",
   "metadata": {},
   "source": [
    "## 7. Identify the three blocks in this code:\n",
    "spam = 0\n",
    "if spam == 10:\n",
    "print(&#39;eggs&#39;)\n",
    "if spam &gt; 5:\n",
    "print(&#39;bacon&#39;)\n",
    "else:\n",
    "print(&#39;ham&#39;)\n",
    "print(&#39;spam&#39;)\n",
    "print(&#39;spam&#39;)\n",
    "\n",
    "ANS:  In Python, code block refers to a collection of code that is in the same block or indent. This is most commonly found in classes, functions, and loops.\n",
    "\n"
   ]
  },
  {
   "cell_type": "markdown",
   "id": "f6c4d50a",
   "metadata": {},
   "source": [
    "## 8.Write code that prints Hello if 1 is stored in spam, prints Howdy if 2 is stored in spam, and prints Greetings! if anything else is stored in spam\n"
   ]
  },
  {
   "cell_type": "code",
   "execution_count": 5,
   "id": "dd380261",
   "metadata": {},
   "outputs": [
    {
     "name": "stdout",
     "output_type": "stream",
     "text": [
      "hello\n",
      "howdy\n",
      "greeting\n"
     ]
    }
   ],
   "source": [
    "def spem_code(spam):\n",
    "    if spam == 1:\n",
    "        print(\"hello\")\n",
    "    elif spam == 2:\n",
    "        print(\"howdy\")\n",
    "    else:\n",
    "        print(\"greeting\")\n",
    "        \n",
    "spem_code(1)\n",
    "spem_code(2)\n",
    "spem_code(3)"
   ]
  },
  {
   "cell_type": "markdown",
   "id": "dea6c014",
   "metadata": {},
   "source": [
    "## 9.If your programme is stuck in an endless loop, what keys you’ll press?\n",
    "\n",
    "ANS: Press Ctrl-c to stop a program stuck in an infinite loop\n",
    "\n"
   ]
  },
  {
   "cell_type": "markdown",
   "id": "c9ede982",
   "metadata": {},
   "source": [
    "## 10. How can you tell the difference between break and continue?\n",
    "\n",
    "ANS: The break statement will move the execution outside the loop if break condtion is satisfied. whereas the continue statement will move the execution to the start of the loop"
   ]
  },
  {
   "cell_type": "markdown",
   "id": "d17c4761",
   "metadata": {},
   "source": [
    "## 11. In a for loop, what is the difference between range(10), range(0, 10), and range(0, 10, 1)?\n",
    "\n",
    "ANS:1. The  rang(10) call range from 0 to 9(but not include 10)\n",
    "\n",
    "2. The range(0,10) tells that the loop to start from 0\n",
    "\n",
    "3.The range(0,10,1)tells that the loop to increase the variable by 1 on each iteration\n"
   ]
  },
  {
   "cell_type": "markdown",
   "id": "208372bc",
   "metadata": {},
   "source": [
    "## 12. Write a short program that prints the numbers 1 to 10 using a for loop. Then write an equivalent program that prints the numbers 1 to 10 using a while loop ?"
   ]
  },
  {
   "cell_type": "code",
   "execution_count": 8,
   "id": "59193f50",
   "metadata": {},
   "outputs": [
    {
     "name": "stdout",
     "output_type": "stream",
     "text": [
      "1 2 3 4 5 6 7 8 9 10 \n",
      "\n",
      "1 2 3 4 5 6 7 8 9 10 "
     ]
    }
   ],
   "source": [
    "# Using for loop\n",
    "for i in range(1,11):\n",
    "    print(i,end=\" \")\n",
    "print(\"\\n\")\n",
    "    \n",
    "#using wile loop\n",
    "i = 1\n",
    "while i <= 10:\n",
    "    print(i,end=\" \")\n",
    "    i+=1"
   ]
  },
  {
   "cell_type": "markdown",
   "id": "b9b3a508",
   "metadata": {},
   "source": [
    "## 13. If you had a function named bacon() inside a module named spam, how would you call it after importing spam ?\n",
    "\n",
    "ANS: This function can be called with spam.bacon()"
   ]
  },
  {
   "cell_type": "code",
   "execution_count": null,
   "id": "295fa1c6",
   "metadata": {},
   "outputs": [],
   "source": []
  }
 ],
 "metadata": {
  "kernelspec": {
   "display_name": "Python 3 (ipykernel)",
   "language": "python",
   "name": "python3"
  },
  "language_info": {
   "codemirror_mode": {
    "name": "ipython",
    "version": 3
   },
   "file_extension": ".py",
   "mimetype": "text/x-python",
   "name": "python",
   "nbconvert_exporter": "python",
   "pygments_lexer": "ipython3",
   "version": "3.10.6"
  }
 },
 "nbformat": 4,
 "nbformat_minor": 5
}
