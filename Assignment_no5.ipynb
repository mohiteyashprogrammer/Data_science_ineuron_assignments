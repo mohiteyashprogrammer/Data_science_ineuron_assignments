{
 "cells": [
  {
   "cell_type": "markdown",
   "id": "bfcec682",
   "metadata": {},
   "source": [
    "## 1.What does an empty dictionary's code look like?\n",
    "\n",
    "ANS: the empty ditionary is often represented by to empty curly brackets {}"
   ]
  },
  {
   "cell_type": "markdown",
   "id": "eb931b21",
   "metadata": {},
   "source": [
    "## 2.what is the value of dictionary value with key 'foo' and the value 42 ?\n",
    "\n",
    "ANS: {\"foo\":42}"
   ]
  },
  {
   "cell_type": "markdown",
   "id": "b383be4a",
   "metadata": {},
   "source": [
    "## 3.What is the most significant distinction between a dictionary and a list?\n",
    "Ans: Dictionaries are represented by { } where as listed are represented by [ ]\n",
    "The Items stored in a dictionary are Unordered , while the items in a list are ordered"
   ]
  },
  {
   "cell_type": "markdown",
   "id": "5cf5c327",
   "metadata": {},
   "source": [
    "## 4.What happens if you try to access spam ['foo'] if spam is {'bar':100} ?\n",
    "Ans: we will get a keyError KeyError: 'foo'"
   ]
  },
  {
   "cell_type": "markdown",
   "id": "a4ec66e7",
   "metadata": {},
   "source": [
    "## 5.if a dictionary is stored in spam,what is the difference between the expressions 'cat' in spam and 'cat' in spam.keys() ?\n",
    "Ans: There is no difference . The operator checks whether a value exits as a key in the dictionary or not"
   ]
  },
  {
   "cell_type": "markdown",
   "id": "1a7cd5b8",
   "metadata": {},
   "source": [
    "## 6.if a dictionary is stored in spam,what is the difference between the expressions 'cat' in spam and 'cat' in spam.values() ?\n",
    "Ans:'cat' in spam checks whether there is a 'cat' key in the dictionary, while 'cat' in spam.values() checks whether there is a value 'cat' for one of the keys in spam."
   ]
  },
  {
   "cell_type": "markdown",
   "id": "5b8cac3c",
   "metadata": {},
   "source": [
    "## 7.what is a shortcut for the following code ?\n",
    "if 'color' not in spam: spam['color'] ='black'\n",
    "\n",
    "Ans: spam.setdefault('color','black')"
   ]
  },
  {
   "cell_type": "markdown",
   "id": "e2436613",
   "metadata": {},
   "source": [
    "## 8.How do you 'pretty print' dictionary values using which modules and function ?\n",
    "Ans: we can pretty print a dictionary using three functions\n",
    "\n",
    "by using pprint() function of pprint module\n",
    "Note: pprint() function doesnot prettify nested dictionaries\n",
    "by using dumps() method of json module\n",
    "by using dumps() method of yaml module"
   ]
  },
  {
   "cell_type": "code",
   "execution_count": null,
   "id": "8037bd68",
   "metadata": {},
   "outputs": [],
   "source": []
  },
  {
   "cell_type": "code",
   "execution_count": null,
   "id": "1668181a",
   "metadata": {},
   "outputs": [],
   "source": []
  }
 ],
 "metadata": {
  "kernelspec": {
   "display_name": "Python 3 (ipykernel)",
   "language": "python",
   "name": "python3"
  },
  "language_info": {
   "codemirror_mode": {
    "name": "ipython",
    "version": 3
   },
   "file_extension": ".py",
   "mimetype": "text/x-python",
   "name": "python",
   "nbconvert_exporter": "python",
   "pygments_lexer": "ipython3",
   "version": "3.10.6"
  }
 },
 "nbformat": 4,
 "nbformat_minor": 5
}
