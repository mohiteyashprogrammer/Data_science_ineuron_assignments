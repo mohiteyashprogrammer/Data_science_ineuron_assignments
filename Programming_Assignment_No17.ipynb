{
 "cells": [
  {
   "cell_type": "markdown",
   "id": "443f6c94",
   "metadata": {},
   "source": [
    "## 1.Create a function that takes three arguments a, b, c and returns the sum of the numbers that are evenly divided by c from the range a, b inclusive ?\n",
    "Examples:\n",
    "evenly_divisible(1, 10, 20) ➞ 0 # No number between 1 and 10 can be evenly divided by 20. evenly_divisible(1, 10, 2) ➞ 30 # 2 + 4 + 6 + 8 + 10 = 30 evenly_divisible(1, 10, 3) ➞ 18 # 3 + 6 + 9 = 18"
   ]
  },
  {
   "cell_type": "code",
   "execution_count": 1,
   "id": "8090c159",
   "metadata": {},
   "outputs": [
    {
     "name": "stdout",
     "output_type": "stream",
     "text": [
      "(1, 10, 20)  > 0\n",
      "(1, 10, 3)  > 18\n",
      "(1, 10, 2)  > 30\n"
     ]
    }
   ],
   "source": [
    "def evenlyDivisible(a,b,c):\n",
    "    output = []\n",
    "    \n",
    "    for i in range(a,b+1):\n",
    "        if i%c == 0:\n",
    "            output.append(i)\n",
    "    print(f\"{a,b,c}  > {sum(output)}\")\n",
    "    \n",
    "evenlyDivisible(1,10,20)\n",
    "evenlyDivisible(1,10,3)\n",
    "evenlyDivisible(1,10,2)\n",
    "            "
   ]
  },
  {
   "cell_type": "markdown",
   "id": "87d41785",
   "metadata": {},
   "source": [
    "## 2.Create a function that returns True if a given inequality expression is correct and False otherwise ?\n",
    "Examples:\n",
    "correct_signs(\"3 < 7 < 11\") ➞ True\n",
    "correct_signs(\"13 > 44 > 33 > 1\") ➞ False\n",
    "correct_signs(\"1 < 2 < 6 < 9 > 3\") ➞ True"
   ]
  },
  {
   "cell_type": "code",
   "execution_count": 2,
   "id": "2a5a6765",
   "metadata": {},
   "outputs": [
    {
     "name": "stdout",
     "output_type": "stream",
     "text": [
      "enter the number: 3 < 7 < 11\n",
      "3 < 7 < 11 = True\n",
      "enter the number: 13 > 44 > 33 > 1\n",
      "13 > 44 > 33 > 1 = False\n",
      "enter the number: 1 < 2 < 6 < 9 > 3\n",
      "1 < 2 < 6 < 9 > 3 = True\n"
     ]
    }
   ],
   "source": [
    "def check_equality():\n",
    "    num = input(\"enter the number: \")\n",
    "    out_put = eval(num)\n",
    "    print(f\"{num} = {out_put}\")\n",
    "    \n",
    "for i in range(3):\n",
    "    check_equality()"
   ]
  },
  {
   "cell_type": "markdown",
   "id": "c56a7826",
   "metadata": {},
   "source": [
    "## 3.Create a function that replaces all the vowels in a string with a specified character ?\n",
    "Examples:\n",
    "replace_vowels(\"the aardvark\", \"#\") ➞ \"th# ##rdv#rk\"\n",
    "replace_vowels(\"minnie mouse\", \"?\") ➞ \"m?nn?? m??s?\"\n",
    "replace_vowels(\"shakespeare\", \"*\") ➞ \"shksp**r\""
   ]
  },
  {
   "cell_type": "code",
   "execution_count": 3,
   "id": "a19241d2",
   "metadata": {},
   "outputs": [
    {
     "name": "stdout",
     "output_type": "stream",
     "text": [
      "enter a stringthe aardvark\n",
      "replace character: #\n",
      "# > th# ##rdv#rk\n",
      "enter a stringthe aardvark\n",
      "replace character: ?\n",
      "? > th? ??rdv?rk\n",
      "enter a stringshakespeare\n",
      "replace character: *\n",
      "* > sh*k*sp**r*\n"
     ]
    }
   ],
   "source": [
    "def replaceVowels():\n",
    "    \n",
    "    vowels = [\"a\",\"e\",\"i\",\"o\",\"u\"]\n",
    "    string = input(\"enter a string\")\n",
    "    repl = input(\"replace character: \")\n",
    "    \n",
    "    for i in string:\n",
    "        if i in vowels:\n",
    "            string = string.replace(i,repl)\n",
    "    print(f\"{repl} > {string}\")\n",
    "    \n",
    "for i in range(3):\n",
    "    replaceVowels()"
   ]
  },
  {
   "cell_type": "markdown",
   "id": "2946576e",
   "metadata": {},
   "source": [
    "## 4.Write a function that calculates the factorial of a number recursively ?\n",
    "Examples:\n",
    "factorial(5) ➞ 120\n",
    "factorial(3) ➞ 6\n",
    "factorial(1) ➞ 1\n",
    "factorial(0) ➞ 1"
   ]
  },
  {
   "cell_type": "code",
   "execution_count": 4,
   "id": "2f7b4085",
   "metadata": {},
   "outputs": [
    {
     "name": "stdout",
     "output_type": "stream",
     "text": [
      "factorial(5) ➞ 120\n",
      "factorial(3) ➞ 6\n",
      "factorial(1) ➞ 1\n",
      "factorial(0) ➞ 1\n"
     ]
    }
   ],
   "source": [
    "def factorial(n):\n",
    "    if n==0:\n",
    "        return 1\n",
    "    return n * factorial(n-1)\n",
    "\n",
    "print(f'factorial(5) ➞ {factorial(5)}')\n",
    "print(f'factorial(3) ➞ {factorial(3)}')\n",
    "print(f'factorial(1) ➞ {factorial(1)}')\n",
    "print(f'factorial(0) ➞ {factorial(0)}')"
   ]
  },
  {
   "cell_type": "markdown",
   "id": "f2221607",
   "metadata": {},
   "source": [
    "## 5.Hamming distance is the number of characters that differ between two strings ?\n",
    "To illustrate:\n",
    "String1: \"abcbba\"\n",
    "String2: \"abcbda\"\n",
    "Hamming Distance: 1 - \"b\" vs. \"d\" is the only difference.\n",
    "Create a function that computes the hamming distance between two strings.\n",
    "Examples:\n",
    "hamming_distance(\"abcde\", \"bcdef\") ➞ 5\n",
    "hamming_distance(\"abcde\", \"abcde\") ➞ 0\n",
    "hamming_distance(\"strong\", \"strung\") ➞ 1"
   ]
  },
  {
   "cell_type": "code",
   "execution_count": 6,
   "id": "1e8504f9",
   "metadata": {},
   "outputs": [
    {
     "name": "stdout",
     "output_type": "stream",
     "text": [
      "enter string1: abcde\n",
      "enter string2: bcdef\n",
      "Hamming Distance abcde and bcdef > 5\n",
      "enter string1: abcde\n",
      "enter string2: abcde\n",
      "Hamming Distance abcde and abcde > 0\n",
      "enter string1: strong\n",
      "enter string2: strung\n",
      "Hamming Distance strong and strung > 1\n"
     ]
    }
   ],
   "source": [
    "def Hamming_distance():\n",
    "    str1 = input(\"enter string1: \")\n",
    "    str2 = input(\"enter string2: \")\n",
    "    \n",
    "    if len(str1) == len(str2):\n",
    "        count = 0\n",
    "        for i in range(len(str1)):\n",
    "            if str1[i] != str2[i]:\n",
    "                count = count+1\n",
    "                \n",
    "        print(f\"Hamming Distance {str1} and {str2} > {count}\")\n",
    "        \n",
    "    else:\n",
    "        print(\"Both string are same length\")\n",
    "        \n",
    "for i in range(3):\n",
    "    Hamming_distance()"
   ]
  },
  {
   "cell_type": "code",
   "execution_count": null,
   "id": "f754809e",
   "metadata": {},
   "outputs": [],
   "source": []
  }
 ],
 "metadata": {
  "kernelspec": {
   "display_name": "Python 3 (ipykernel)",
   "language": "python",
   "name": "python3"
  },
  "language_info": {
   "codemirror_mode": {
    "name": "ipython",
    "version": 3
   },
   "file_extension": ".py",
   "mimetype": "text/x-python",
   "name": "python",
   "nbconvert_exporter": "python",
   "pygments_lexer": "ipython3",
   "version": "3.10.6"
  }
 },
 "nbformat": 4,
 "nbformat_minor": 5
}
